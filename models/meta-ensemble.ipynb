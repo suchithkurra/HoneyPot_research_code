{
 "cells": [
  {
   "cell_type": "code",
   "execution_count": null,
   "id": "initial_id",
   "metadata": {
    "collapsed": true,
    "ExecuteTime": {
     "end_time": "2024-04-24T10:01:43.166321Z",
     "start_time": "2024-04-24T10:01:43.164436Z"
    }
   },
   "outputs": [],
   "source": []
  },
  {
   "cell_type": "code",
   "execution_count": 1,
   "outputs": [],
   "source": [
    "import joblib\n",
    "import numpy as np\n",
    "import pandas as pd\n",
    "from sklearn.metrics import accuracy_score, roc_curve, auc, confusion_matrix, classification_report\n",
    "from sklearn.ensemble import RandomForestClassifier\n",
    "import matplotlib.pyplot as plt\n"
   ],
   "metadata": {
    "collapsed": false,
    "ExecuteTime": {
     "end_time": "2024-04-24T10:27:47.945632Z",
     "start_time": "2024-04-24T10:27:47.740779Z"
    }
   },
   "id": "e3dc268e13a4eee9"
  },
  {
   "cell_type": "code",
   "execution_count": 2,
   "outputs": [],
   "source": [
    "# Load your datasets for each attack\n",
    "attack1_data = pd.read_csv(\"/Users/suchithkurra/Desktop/Honey_Pot Research/data/DDoS.csv\")\n",
    "attack2_data = pd.read_csv(\"/Users/suchithkurra/Desktop/Honey_Pot Research/data/infilatration.csv\")\n",
    "attack3_data = pd.read_csv(\"/Users/suchithkurra/Desktop/Honey_Pot Research/data/patator.csv\")\n",
    "attack4_data = pd.read_csv(\"/Users/suchithkurra/Desktop/Honey_Pot Research/data/Web_attack.csv\")"
   ],
   "metadata": {
    "collapsed": false,
    "ExecuteTime": {
     "end_time": "2024-04-24T10:27:51.905910Z",
     "start_time": "2024-04-24T10:27:48.692548Z"
    }
   },
   "id": "9762e70af9f4c808"
  },
  {
   "cell_type": "code",
   "execution_count": 3,
   "outputs": [],
   "source": [
    "# Data preprocessing\n",
    "# Drop any rows with missing values\n",
    "attack1_data.dropna(inplace=True)\n",
    "attack2_data.dropna(inplace=True)\n",
    "attack3_data.dropna(inplace=True)\n",
    "attack4_data.dropna(inplace=True)"
   ],
   "metadata": {
    "collapsed": false,
    "ExecuteTime": {
     "end_time": "2024-04-24T10:27:52.979645Z",
     "start_time": "2024-04-24T10:27:52.594574Z"
    }
   },
   "id": "ecbf3415e755dc9d"
  },
  {
   "cell_type": "code",
   "execution_count": 4,
   "outputs": [],
   "source": [
    "# Replace infinite or very large values with NaN\n",
    "attack1_data.replace([np.inf, -np.inf], np.nan, inplace=True)\n",
    "attack2_data.replace([np.inf, -np.inf], np.nan, inplace=True)\n",
    "\n",
    "attack3_data.replace([np.inf, -np.inf], np.nan, inplace=True)\n",
    "\n",
    "attack4_data.replace([np.inf, -np.inf], np.nan, inplace=True)\n"
   ],
   "metadata": {
    "collapsed": false,
    "ExecuteTime": {
     "end_time": "2024-04-24T10:27:53.680862Z",
     "start_time": "2024-04-24T10:27:53.485350Z"
    }
   },
   "id": "f6921fc93e2ccc3"
  },
  {
   "cell_type": "code",
   "execution_count": 5,
   "outputs": [],
   "source": [
    "# Drop rows containing NaN values\n",
    "attack1_data.dropna(inplace=True)\n",
    "attack2_data.dropna(inplace=True)\n",
    "attack3_data.dropna(inplace=True)\n",
    "attack4_data.dropna(inplace=True)\n"
   ],
   "metadata": {
    "collapsed": false,
    "ExecuteTime": {
     "end_time": "2024-04-24T10:27:55.073827Z",
     "start_time": "2024-04-24T10:27:54.405826Z"
    }
   },
   "id": "e440265bde7ab8ff"
  },
  {
   "cell_type": "code",
   "execution_count": 6,
   "outputs": [],
   "source": [
    "from sklearn.preprocessing import LabelEncoder\n",
    "\n",
    "# Encode target variable\n",
    "label_encoder = LabelEncoder()\n",
    "attack1_data[' Label'] = label_encoder.fit_transform(attack1_data[' Label'])\n",
    "attack2_data['Label'] = label_encoder.fit_transform(attack2_data['Label'])\n",
    "attack3_data['Label'] = label_encoder.fit_transform(attack3_data['Label'])\n",
    "attack4_data['Label'] = label_encoder.fit_transform(attack4_data['Label'])"
   ],
   "metadata": {
    "collapsed": false,
    "ExecuteTime": {
     "end_time": "2024-04-24T10:28:12.320648Z",
     "start_time": "2024-04-24T10:28:12.220437Z"
    }
   },
   "id": "1da1550f17386a85"
  },
  {
   "cell_type": "code",
   "execution_count": 7,
   "outputs": [],
   "source": [
    "# Assuming each dataset has features and a target column (X and y)\n",
    "X1 = attack1_data.drop(columns=[\" Label\"])\n",
    "y1 = attack1_data[\" Label\"]\n",
    "X2 = attack2_data.drop(columns=[\"Label\"])\n",
    "y2 = attack2_data[\"Label\"]\n",
    "X3 = attack3_data.drop(columns=[\"Label\"])\n",
    "y3 = attack3_data[\"Label\"]\n",
    "X4 = attack4_data.drop(columns=[\"Label\"])\n",
    "y4 = attack4_data[\"Label\"]"
   ],
   "metadata": {
    "collapsed": false,
    "ExecuteTime": {
     "end_time": "2024-04-24T10:28:15.555169Z",
     "start_time": "2024-04-24T10:28:15.176544Z"
    }
   },
   "id": "4d28a40184105251"
  },
  {
   "cell_type": "code",
   "execution_count": 8,
   "outputs": [],
   "source": [
    "from sklearn.model_selection import train_test_split\n",
    "\n",
    "# Split data into train and test sets\n",
    "X_train1, X_test1, y_train1, y_test1 = train_test_split(X1, y1, test_size=0.2, random_state=42)\n",
    "X_train2, X_test2, y_train2, y_test2 = train_test_split(X2, y2, test_size=0.2, random_state=23)\n",
    "X_train3, X_test3, y_train3, y_test3 = train_test_split(X3, y3, test_size=0.2, random_state=7)\n",
    "X_train4, X_test4, y_train4, y_test4 = train_test_split(X4, y4, test_size=0.2, random_state=15)  # For the fourth dataset\n",
    "\n"
   ],
   "metadata": {
    "collapsed": false,
    "ExecuteTime": {
     "end_time": "2024-04-24T10:28:17.395711Z",
     "start_time": "2024-04-24T10:28:16.650424Z"
    }
   },
   "id": "ad3c7e2e8284ed62"
  },
  {
   "cell_type": "code",
   "execution_count": 9,
   "outputs": [],
   "source": [
    "from sklearn.preprocessing import StandardScaler\n",
    "\n",
    "# Feature scaling\n",
    "scaler = StandardScaler()\n",
    "X_train1_scaled = scaler.fit_transform(X_train1)\n",
    "X_test1_scaled = scaler.transform(X_test1)\n",
    "\n",
    "X_train2_scaled = scaler.fit_transform(X_train2)\n",
    "X_test2_scaled = scaler.transform(X_test2)\n",
    "\n",
    "X_train3_scaled = scaler.fit_transform(X_train3)\n",
    "X_test3_scaled = scaler.transform(X_test3)\n",
    "\n",
    "X_train4_scaled = scaler.fit_transform(X_train4)\n",
    "X_test4_scaled = scaler.transform(X_test4)"
   ],
   "metadata": {
    "collapsed": false,
    "ExecuteTime": {
     "end_time": "2024-04-24T10:28:19.774690Z",
     "start_time": "2024-04-24T10:28:18.316164Z"
    }
   },
   "id": "dee9a412c630a4f3"
  },
  {
   "cell_type": "code",
   "execution_count": 19,
   "outputs": [],
   "source": [
    "from sklearn.feature_selection import SelectKBest, f_classif\n",
    "\n",
    "# SelectKBest with ANOVA F-value\n",
    "k = 20  # Number of top features to select\n",
    "selector1 = SelectKBest(score_func=f_classif, k=k)\n",
    "X_train1_selected = selector1.fit_transform(X_train1_scaled, y_train1)\n",
    "X_test1_selected = selector1.transform(X_test1_scaled)\n",
    "\n",
    "k = 20  # Number of top features to select\n",
    "selector2 = SelectKBest(score_func=f_classif, k=k)\n",
    "X_train2_selected = selector2.fit_transform(X_train2_scaled, y_train2)\n",
    "X_test2_selected = selector2.transform(X_test2_scaled)\n",
    "\n",
    "k = 20  # Number of top features to select\n",
    "selector3 = SelectKBest(score_func=f_classif, k=k)\n",
    "X_train3_selected = selector3.fit_transform(X_train3_scaled, y_train3)\n",
    "X_test3_selected = selector3.transform(X_test3_scaled)\n",
    "\n",
    "k = 20  # Number of top features to select\n",
    "selector4 = SelectKBest(score_func=f_classif, k=k)\n",
    "X_train4_selected = selector4.fit_transform(X_train4_scaled, y_train4)\n",
    "X_test4_selected = selector4.transform(X_test4_scaled)"
   ],
   "metadata": {
    "collapsed": false,
    "ExecuteTime": {
     "end_time": "2024-04-24T10:57:42.946397Z",
     "start_time": "2024-04-24T10:57:40.914835Z"
    }
   },
   "id": "1e1e1eeb30c6dac8"
  },
  {
   "cell_type": "code",
   "execution_count": 20,
   "outputs": [],
   "source": [
    "selected_features_indices1 = selector1.get_support(indices=True)\n",
    "selected_features_indices2 = selector2.get_support(indices=True)\n",
    "selected_features_indices3 = selector3.get_support(indices=True)\n",
    "selected_features_indices4 = selector4.get_support(indices=True)"
   ],
   "metadata": {
    "collapsed": false,
    "ExecuteTime": {
     "end_time": "2024-04-24T10:57:44.393943Z",
     "start_time": "2024-04-24T10:57:44.368978Z"
    }
   },
   "id": "cb90348ab2b58777"
  },
  {
   "cell_type": "code",
   "execution_count": 21,
   "outputs": [],
   "source": [
    "selected_feature_names1 = X1.columns[selected_features_indices1]\n",
    "selected_feature_names2 = X2.columns[selected_features_indices2]\n",
    "selected_feature_names3 = X3.columns[selected_features_indices3]\n",
    "selected_feature_names4 = X4.columns[selected_features_indices4]"
   ],
   "metadata": {
    "collapsed": false,
    "ExecuteTime": {
     "end_time": "2024-04-24T10:57:45.210456Z",
     "start_time": "2024-04-24T10:57:45.184050Z"
    }
   },
   "id": "8dc012040656cf09"
  },
  {
   "cell_type": "code",
   "execution_count": 22,
   "outputs": [
    {
     "name": "stdout",
     "output_type": "stream",
     "text": [
      "Selected features:\n",
      "Index([' Destination Port', 'Total Length of Fwd Packets',\n",
      "       ' Fwd Packet Length Max', ' Fwd Packet Length Mean',\n",
      "       'Bwd Packet Length Max', ' Bwd Packet Length Min',\n",
      "       ' Bwd Packet Length Mean', ' Bwd Packet Length Std', 'Bwd IAT Total',\n",
      "       ' Min Packet Length', ' Max Packet Length', ' Packet Length Mean',\n",
      "       ' Packet Length Std', ' Packet Length Variance', ' URG Flag Count',\n",
      "       ' Average Packet Size', ' Avg Fwd Segment Size',\n",
      "       ' Avg Bwd Segment Size', ' Subflow Fwd Bytes', ' min_seg_size_forward'],\n",
      "      dtype='object')\n",
      "Selected features:\n",
      "Index(['Total Fwd Packets', 'Total Backward Packets',\n",
      "       'Total Length of Fwd Packets', 'Flow IAT Max', 'Fwd IAT Max',\n",
      "       'Bwd IAT Max', 'Fwd Header Length', 'Bwd Header Length',\n",
      "       'SYN Flag Count', 'Fwd Header Length.1', 'Subflow Fwd Packets',\n",
      "       'Subflow Fwd Bytes', 'Subflow Bwd Packets', 'act_data_pkt_fwd',\n",
      "       'Active Mean', 'Active Std', 'Active Max', 'Active Min', 'Idle Std',\n",
      "       'Idle Max'],\n",
      "      dtype='object')\n",
      "Selected features:\n",
      "Index(['Destination Port', 'Fwd Packet Length Min', 'Bwd Packet Length Max',\n",
      "       'Bwd Packet Length Min', 'Bwd Packet Length Mean',\n",
      "       'Bwd Packet Length Std', 'Fwd PSH Flags', 'Min Packet Length',\n",
      "       'Max Packet Length', 'Packet Length Mean', 'Packet Length Std',\n",
      "       'SYN Flag Count', 'PSH Flag Count', 'ACK Flag Count', 'URG Flag Count',\n",
      "       'Down/Up Ratio', 'Average Packet Size', 'Avg Bwd Segment Size',\n",
      "       'Init_Win_bytes_forward', 'act_data_pkt_fwd'],\n",
      "      dtype='object')\n",
      "Selected features:\n",
      "Index(['Destination Port', 'Fwd Packet Length Min', 'Bwd Packet Length Max',\n",
      "       'Bwd Packet Length Min', 'Bwd Packet Length Mean',\n",
      "       'Bwd Packet Length Std', 'Fwd IAT Std', 'Min Packet Length',\n",
      "       'Max Packet Length', 'Packet Length Mean', 'Packet Length Std',\n",
      "       'PSH Flag Count', 'ACK Flag Count', 'Down/Up Ratio',\n",
      "       'Average Packet Size', ' Avg Fwd Segment Size', 'Avg Bwd Segment Size',\n",
      "       'Init_Win_bytes_forward', 'Init_Win_bytes_backward',\n",
      "       'min_seg_size_forward'],\n",
      "      dtype='object')\n"
     ]
    }
   ],
   "source": [
    "# Print the selected feature names\n",
    "print(\"Selected features:\")\n",
    "print(selected_feature_names1)\n",
    "\n",
    "# Print the selected feature names\n",
    "print(\"Selected features:\")\n",
    "print(selected_feature_names2)\n",
    "\n",
    "# Print the selected feature names\n",
    "print(\"Selected features:\")\n",
    "print(selected_feature_names3)\n",
    "\n",
    "# Print the selected feature names\n",
    "print(\"Selected features:\")\n",
    "print(selected_feature_names4)"
   ],
   "metadata": {
    "collapsed": false,
    "ExecuteTime": {
     "end_time": "2024-04-24T10:57:46.109369Z",
     "start_time": "2024-04-24T10:57:46.026724Z"
    }
   },
   "id": "7b56c9f238a1a3bd"
  },
  {
   "cell_type": "code",
   "execution_count": 23,
   "outputs": [],
   "source": [
    "# Load base ensemble models from pkl files\n",
    "base_model1 = joblib.load('/Users/suchithkurra/Desktop/Honey_Pot Research/HoneyPot_research_code/models/ddos_ensemble_1.pkl')\n",
    "base_model2 = joblib.load('/Users/suchithkurra/Desktop/Honey_Pot Research/HoneyPot_research_code/models/web_attack_ensemble_1.pkl')\n",
    "base_model3 = joblib.load('/Users/suchithkurra/Desktop/Honey_Pot Research/HoneyPot_research_code/models/infiltration_sensemble.pkl')\n",
    "base_model4 = joblib.load('/Users/suchithkurra/Desktop/Honey_Pot Research/HoneyPot_research_code/models/patator_ensemble.pkl')"
   ],
   "metadata": {
    "collapsed": false,
    "ExecuteTime": {
     "end_time": "2024-04-24T10:59:38.789588Z",
     "start_time": "2024-04-24T10:59:38.605109Z"
    }
   },
   "id": "7fe49bf0c96951b5"
  },
  {
   "cell_type": "code",
   "execution_count": 24,
   "outputs": [],
   "source": [
    "# Make predictions using base models\n",
    "preds1 = base_model1.predict(X_test1_selected)\n",
    "preds2 = base_model2.predict(X_test2_selected)\n",
    "preds3 = base_model3.predict(X_test3_selected)\n",
    "preds4 = base_model4.predict(X_test4_selected)\n",
    "ensemble_predictions = [preds1, preds2, preds3, preds4]\n",
    "ensemble_data = np.transpose(ensemble_predictions)\n"
   ],
   "metadata": {
    "collapsed": false,
    "ExecuteTime": {
     "end_time": "2024-04-24T11:00:03.467383Z",
     "start_time": "2024-04-24T10:59:39.814339Z"
    }
   },
   "id": "898e5a4d4859941e"
  },
  {
   "cell_type": "code",
   "execution_count": null,
   "outputs": [],
   "source": [
    "target_variable = 'Label'"
   ],
   "metadata": {
    "collapsed": false
   },
   "id": "82c093aa2f67dba6"
  },
  {
   "cell_type": "code",
   "execution_count": null,
   "outputs": [],
   "source": [
    "from sklearn.ensemble import VotingClassifier\n",
    "\n",
    "\n",
    "meta_ensemble = VotingClassifier(estimators=[base_model1, base_model2, base_model3, base_model4], voting='hard')\n"
   ],
   "metadata": {
    "collapsed": false
   },
   "id": "aaadb5801487d4c"
  },
  {
   "cell_type": "code",
   "execution_count": null,
   "outputs": [],
   "source": [
    "# Train the meta-ensemble model on ensemble predictions and target variable\n",
    "meta_ensemble.fit(ensemble_data, target_variable)"
   ],
   "metadata": {
    "collapsed": false
   },
   "id": "53819321f7aab1ab"
  },
  {
   "cell_type": "code",
   "execution_count": null,
   "outputs": [],
   "source": [
    "# Make predictions on new data using the meta-ensemble model\n",
    "new_data_predictions = meta_ensemble.predict(new_ensemble_predictions)  # Replace with predictions for new data from your ensemble models"
   ],
   "metadata": {
    "collapsed": false
   },
   "id": "1ac6347bf960533a"
  },
  {
   "cell_type": "code",
   "execution_count": 18,
   "outputs": [],
   "source": [
    "from sklearn.ensemble import VotingClassifier\n",
    "\n",
    "# Create a voting ensemble model\n",
    "voting_ensemble_model = VotingClassifier(estimators=[\n",
    "    ('DDoS', base_model1),\n",
    "    ('Web-atttack', base_model2),\n",
    "    ('infiltration', base_model3),\n",
    "    ('patator', base_model4)\n",
    "], voting='hard')  #"
   ],
   "metadata": {
    "collapsed": false,
    "ExecuteTime": {
     "end_time": "2024-04-24T10:30:41.456338Z",
     "start_time": "2024-04-24T10:30:41.431267Z"
    }
   },
   "id": "396cfad398fbf5dc"
  },
  {
   "cell_type": "code",
   "execution_count": null,
   "outputs": [],
   "source": [
    "from sklearn.base import BaseEstimator, ClassifierMixin\n",
    "\n",
    "\n",
    "class MetaEnsembleModel(BaseEstimator, ClassifierMixin):\n",
    "    def __init__(self, base_models, meta_model):\n",
    "        self.base_models = base_models\n",
    "        self.meta_model = meta_model\n",
    "\n",
    "    def fit(self, X, y):\n",
    "        # Train base models\n",
    "        base_model_predictions = np.empty((len(X), len(self.base_models)))\n",
    "        for i, base_model in enumerate(self.base_models):\n",
    "            base_model.fit(X, y)\n",
    "            base_model_predictions[:, i] = base_model.predict(X)\n",
    "        \n",
    "        # Train meta model\n",
    "        self.meta_model.fit(base_model_predictions, y)\n",
    "\n",
    "    def predict(self, X):\n",
    "        # Get base model predictions\n",
    "        base_model_predictions = np.empty((len(X), len(self.base_models)))\n",
    "        for i, base_model in enumerate(self.base_models):\n",
    "            base_model_predictions[:, i] = base_model.predict(X)\n",
    "\n",
    "        # Make predictions using meta model\n",
    "        return self.meta_model.predict(base_model_predictions)"
   ],
   "metadata": {
    "collapsed": false
   },
   "id": "b97038720ed01a15"
  },
  {
   "cell_type": "code",
   "execution_count": null,
   "outputs": [],
   "source": [
    "meta_ensemble_model = MetaEnsembleModel(base_models=[base_model1, base_model2, base_model3], meta_model=voting_ensemble_model)\n"
   ],
   "metadata": {
    "collapsed": false
   },
   "id": "93a5bd5605918c25"
  },
  {
   "cell_type": "code",
   "execution_count": null,
   "outputs": [],
   "source": [
    "# Train the voting ensemble model\n",
    "voting_ensemble_model.fit(X_train1, y_train1)  # \n"
   ],
   "metadata": {
    "collapsed": false,
    "ExecuteTime": {
     "start_time": "2024-04-24T10:01:43.821063Z"
    }
   },
   "id": "9ead6051be551d79"
  },
  {
   "cell_type": "code",
   "execution_count": null,
   "outputs": [],
   "source": [
    "\n",
    "# Make predictions using the voting ensemble model\n",
    "voting_preds = voting_ensemble_model.predict(X_test1) "
   ],
   "metadata": {
    "collapsed": false,
    "ExecuteTime": {
     "start_time": "2024-04-24T10:01:43.821737Z"
    }
   },
   "id": "19292858f1a39df2"
  },
  {
   "cell_type": "code",
   "execution_count": null,
   "outputs": [],
   "source": [
    "# Evaluate the voting ensemble model\n",
    "voting_accuracy = accuracy_score(y_test1, voting_preds)  # Using y_test1, assuming the same labels for y_test2 and y_test3\n",
    "print(\"Voting Ensemble Model Accuracy:\", voting_accuracy)"
   ],
   "metadata": {
    "collapsed": false,
    "ExecuteTime": {
     "end_time": "2024-04-24T10:01:43.823477Z",
     "start_time": "2024-04-24T10:01:43.822355Z"
    }
   },
   "id": "bf961ab10a27bbcd"
  },
  {
   "cell_type": "code",
   "execution_count": null,
   "outputs": [],
   "source": [
    "# Plot ROC curve for voting ensemble model\n",
    "y_pred_proba_voting = voting_ensemble_model.predict_proba(X_test1)[:, 1]\n",
    "fpr, tpr, _ = roc_curve(y_test1, y_pred_proba_voting)\n",
    "roc_auc = auc(fpr, tpr)\n",
    "plt.figure()\n",
    "plt.plot(fpr, tpr, color='darkorange', lw=2, label='ROC curve (area = %0.2f)' % roc_auc)\n",
    "plt.plot([0, 1], [0, 1], color='navy', lw=2, linestyle='--')\n",
    "plt.xlabel('False Positive Rate')\n",
    "plt.ylabel('True Positive Rate')\n",
    "plt.title('ROC Curve for Voting Ensemble Model')\n",
    "plt.legend(loc=\"lower right\")\n",
    "plt.show()\n",
    "\n",
    "# Plot confusion matrix for voting ensemble model\n",
    "conf_matrix = confusion_matrix(y_test1, voting_preds)\n",
    "plt.figure()\n",
    "plt.imshow(conf_matrix, interpolation='nearest', cmap=plt.cm.Blues)\n",
    "plt.title('Confusion Matrix for Voting Ensemble Model')\n",
    "plt.colorbar()\n",
    "plt.xlabel('Predicted Label')\n",
    "plt.ylabel('True Label')\n",
    "tick_marks = np.arange(len(np.unique(y_test1)))\n",
    "plt.xticks(tick_marks, np.unique(y_test1))\n",
    "plt.yticks(tick_marks, np.unique(y_test1))\n",
    "plt.show()\n",
    "\n",
    "# Print classification report for voting ensemble model\n",
    "print(\"Classification Report:\")\n",
    "print(classification_report(y_test1, voting_preds))\n",
    "\n",
    "# Calculate false positives and false negatives for voting ensemble model\n",
    "fp = np.sum((voting_preds == 1) & (y_test1 == 0))\n",
    "fn = np.sum((voting_preds == 0) & (y_test1 == 1))\n",
    "print(\"False Positives:\", fp)\n",
    "print(\"False Negatives:\", fn)"
   ],
   "metadata": {
    "collapsed": false,
    "ExecuteTime": {
     "start_time": "2024-04-24T10:01:43.823009Z"
    }
   },
   "id": "5c1b587e031c842f"
  }
 ],
 "metadata": {
  "kernelspec": {
   "display_name": "Python 3",
   "language": "python",
   "name": "python3"
  },
  "language_info": {
   "codemirror_mode": {
    "name": "ipython",
    "version": 2
   },
   "file_extension": ".py",
   "mimetype": "text/x-python",
   "name": "python",
   "nbconvert_exporter": "python",
   "pygments_lexer": "ipython2",
   "version": "2.7.6"
  }
 },
 "nbformat": 4,
 "nbformat_minor": 5
}
