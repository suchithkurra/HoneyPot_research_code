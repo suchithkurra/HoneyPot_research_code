{
 "cells": [
  {
   "cell_type": "code",
   "execution_count": 1,
   "outputs": [],
   "source": [
    "import pandas as pd\n",
    "from sklearn.model_selection import train_test_split\n",
    "from sklearn.preprocessing import StandardScaler\n",
    "from sklearn.ensemble import VotingClassifier\n",
    "import joblib\n",
    "\n",
    "from sklearn.feature_selection import SelectKBest, f_classif\n",
    "import numpy as np\n",
    "from sklearn.metrics import classification_report, confusion_matrix, roc_curve, auc\n",
    "import matplotlib.pyplot as plt"
   ],
   "metadata": {
    "collapsed": false,
    "ExecuteTime": {
     "end_time": "2024-04-21T09:37:42.257370Z",
     "start_time": "2024-04-21T09:37:41.992277Z"
    }
   },
   "id": "6b6f36805c458394"
  },
  {
   "cell_type": "code",
   "execution_count": 2,
   "outputs": [],
   "source": [
    "# Load the dataset\n",
    "data = pd.read_csv('/Users/suchithkurra/Desktop/Honey_Pot Research/data/DDoS.csv')"
   ],
   "metadata": {
    "collapsed": false,
    "ExecuteTime": {
     "end_time": "2024-04-20T09:53:18.888992Z",
     "start_time": "2024-04-20T09:53:18.191228Z"
    }
   },
   "id": "775ed9ace8dc11ee"
  },
  {
   "cell_type": "code",
   "execution_count": 3,
   "outputs": [],
   "source": [
    "# Data preprocessing\n",
    "# Drop any rows with missing values\n",
    "data.dropna(inplace=True)"
   ],
   "metadata": {
    "collapsed": false,
    "ExecuteTime": {
     "end_time": "2024-04-20T09:53:25.358875Z",
     "start_time": "2024-04-20T09:53:25.252001Z"
    }
   },
   "id": "614dd19ce1876476"
  },
  {
   "cell_type": "code",
   "execution_count": 4,
   "outputs": [],
   "source": [
    "# Replace infinite or very large values with NaN\n",
    "data.replace([np.inf, -np.inf], np.nan, inplace=True)"
   ],
   "metadata": {
    "collapsed": false,
    "ExecuteTime": {
     "end_time": "2024-04-20T09:53:31.653927Z",
     "start_time": "2024-04-20T09:53:31.605722Z"
    }
   },
   "id": "85cac3b4a57e1587"
  },
  {
   "cell_type": "code",
   "execution_count": 5,
   "outputs": [],
   "source": [
    "# Drop rows containing NaN values\n",
    "data.dropna(inplace=True)"
   ],
   "metadata": {
    "collapsed": false,
    "ExecuteTime": {
     "end_time": "2024-04-20T09:53:38.354064Z",
     "start_time": "2024-04-20T09:53:38.247495Z"
    }
   },
   "id": "ed712453c41fba7c"
  },
  {
   "cell_type": "code",
   "execution_count": 6,
   "outputs": [],
   "source": [
    "from sklearn.preprocessing import LabelEncoder\n",
    "\n",
    "# Encode target variable\n",
    "label_encoder = LabelEncoder()\n",
    "data[' Label'] = label_encoder.fit_transform(data[' Label'])"
   ],
   "metadata": {
    "collapsed": false,
    "ExecuteTime": {
     "end_time": "2024-04-20T09:53:44.693705Z",
     "start_time": "2024-04-20T09:53:44.691151Z"
    }
   },
   "id": "a8c5671c37f4daa6"
  },
  {
   "cell_type": "code",
   "execution_count": 7,
   "outputs": [],
   "source": [
    "# Split features and target variable\n",
    "X = data.drop(' Label', axis=1)\n",
    "y = data[' Label']"
   ],
   "metadata": {
    "collapsed": false,
    "ExecuteTime": {
     "end_time": "2024-04-20T09:53:50.947100Z",
     "start_time": "2024-04-20T09:53:50.839267Z"
    }
   },
   "id": "13b4be784d761ee9"
  },
  {
   "cell_type": "code",
   "execution_count": 8,
   "outputs": [],
   "source": [
    "X_train, X_test, y_train, y_test = train_test_split(X, y, test_size=0.2, random_state=42)\n"
   ],
   "metadata": {
    "collapsed": false,
    "ExecuteTime": {
     "end_time": "2024-04-20T09:53:59.535067Z",
     "start_time": "2024-04-20T09:53:59.438730Z"
    }
   },
   "id": "45428a41943e05ca"
  },
  {
   "cell_type": "code",
   "execution_count": 9,
   "outputs": [],
   "source": [
    "# Feature scaling\n",
    "scaler = StandardScaler()\n",
    "X_train_scaled = scaler.fit_transform(X_train)\n",
    "X_test_scaled = scaler.transform(X_test)"
   ],
   "metadata": {
    "collapsed": false,
    "ExecuteTime": {
     "end_time": "2024-04-20T09:54:06.969654Z",
     "start_time": "2024-04-20T09:54:06.775426Z"
    }
   },
   "id": "30ec9a4963d30154"
  },
  {
   "cell_type": "code",
   "execution_count": 10,
   "outputs": [],
   "source": [
    "# SelectKBest with ANOVA F-value\n",
    "k = 20  # Number of top features to select\n",
    "selector = SelectKBest(score_func=f_classif, k=k)\n",
    "X_train_selected = selector.fit_transform(X_train_scaled, y_train)\n",
    "X_test_selected = selector.transform(X_test_scaled)"
   ],
   "metadata": {
    "collapsed": false,
    "ExecuteTime": {
     "end_time": "2024-04-20T09:54:14.517457Z",
     "start_time": "2024-04-20T09:54:14.338276Z"
    }
   },
   "id": "cfacb06d1ea0e1c8"
  },
  {
   "cell_type": "code",
   "execution_count": 11,
   "outputs": [],
   "source": [
    "selected_features_indices = selector.get_support(indices=True)"
   ],
   "metadata": {
    "collapsed": false,
    "ExecuteTime": {
     "end_time": "2024-04-20T09:54:21.131942Z",
     "start_time": "2024-04-20T09:54:21.110978Z"
    }
   },
   "id": "f4fb322f4844973b"
  },
  {
   "cell_type": "code",
   "execution_count": 12,
   "outputs": [],
   "source": [
    "selected_feature_names = X.columns[selected_features_indices]"
   ],
   "metadata": {
    "collapsed": false,
    "ExecuteTime": {
     "end_time": "2024-04-20T09:54:27.589335Z",
     "start_time": "2024-04-20T09:54:27.577112Z"
    }
   },
   "id": "e5f81ebf9ece3316"
  },
  {
   "cell_type": "code",
   "execution_count": 13,
   "outputs": [
    {
     "name": "stdout",
     "output_type": "stream",
     "text": [
      "Selected features:\n",
      "Index([' Destination Port', 'Total Length of Fwd Packets',\n",
      "       ' Fwd Packet Length Max', ' Fwd Packet Length Mean',\n",
      "       'Bwd Packet Length Max', ' Bwd Packet Length Min',\n",
      "       ' Bwd Packet Length Mean', ' Bwd Packet Length Std', 'Bwd IAT Total',\n",
      "       ' Min Packet Length', ' Max Packet Length', ' Packet Length Mean',\n",
      "       ' Packet Length Std', ' Packet Length Variance', ' URG Flag Count',\n",
      "       ' Average Packet Size', ' Avg Fwd Segment Size',\n",
      "       ' Avg Bwd Segment Size', ' Subflow Fwd Bytes', ' min_seg_size_forward'],\n",
      "      dtype='object')\n"
     ]
    }
   ],
   "source": [
    "# Print the selected feature names\n",
    "print(\"Selected features:\")\n",
    "print(selected_feature_names)"
   ],
   "metadata": {
    "collapsed": false,
    "ExecuteTime": {
     "end_time": "2024-04-20T09:54:34.783610Z",
     "start_time": "2024-04-20T09:54:34.772048Z"
    }
   },
   "id": "cc7bb0bbec98fa7"
  },
  {
   "cell_type": "code",
   "execution_count": 15,
   "outputs": [],
   "source": [
    "# Load the saved models\n",
    "rf_model = joblib.load('/Users/suchithkurra/Desktop/Honey_Pot Research/HoneyPot_research_code/random_forest_model_ddos.pkl')\n",
    "svm_model = joblib.load('/Users/suchithkurra/Desktop/Honey_Pot Research/HoneyPot_research_code/models/DDoS_svm_model.pkl')\n",
    "nb_model = joblib.load('/Users/suchithkurra/Desktop/Honey_Pot Research/HoneyPot_research_code/models/DDoS_nb_model.pkl')"
   ],
   "metadata": {
    "collapsed": false,
    "ExecuteTime": {
     "end_time": "2024-04-20T09:59:33.347674Z",
     "start_time": "2024-04-20T09:59:33.311569Z"
    }
   },
   "id": "c09d0aeb0135e2e0"
  },
  {
   "cell_type": "code",
   "execution_count": 16,
   "outputs": [],
   "source": [
    "# Create a voting classifier\n",
    "voting_clf = VotingClassifier(estimators=[\n",
    "    ('random_forest', rf_model),\n",
    "    ('svm', svm_model),\n",
    "    ('naive_bayes', nb_model)\n",
    "], voting='hard')"
   ],
   "metadata": {
    "collapsed": false,
    "ExecuteTime": {
     "end_time": "2024-04-20T09:59:43.582291Z",
     "start_time": "2024-04-20T09:59:43.556060Z"
    }
   },
   "id": "3d8ed1afd72b6020"
  },
  {
   "cell_type": "code",
   "execution_count": 17,
   "outputs": [
    {
     "data": {
      "text/plain": "VotingClassifier(estimators=[('random_forest',\n                              RandomForestClassifier(random_state=42)),\n                             ('svm', SVC(probability=True, random_state=42)),\n                             ('naive_bayes', GaussianNB())])",
      "text/html": "<style>#sk-container-id-1 {color: black;background-color: white;}#sk-container-id-1 pre{padding: 0;}#sk-container-id-1 div.sk-toggleable {background-color: white;}#sk-container-id-1 label.sk-toggleable__label {cursor: pointer;display: block;width: 100%;margin-bottom: 0;padding: 0.3em;box-sizing: border-box;text-align: center;}#sk-container-id-1 label.sk-toggleable__label-arrow:before {content: \"▸\";float: left;margin-right: 0.25em;color: #696969;}#sk-container-id-1 label.sk-toggleable__label-arrow:hover:before {color: black;}#sk-container-id-1 div.sk-estimator:hover label.sk-toggleable__label-arrow:before {color: black;}#sk-container-id-1 div.sk-toggleable__content {max-height: 0;max-width: 0;overflow: hidden;text-align: left;background-color: #f0f8ff;}#sk-container-id-1 div.sk-toggleable__content pre {margin: 0.2em;color: black;border-radius: 0.25em;background-color: #f0f8ff;}#sk-container-id-1 input.sk-toggleable__control:checked~div.sk-toggleable__content {max-height: 200px;max-width: 100%;overflow: auto;}#sk-container-id-1 input.sk-toggleable__control:checked~label.sk-toggleable__label-arrow:before {content: \"▾\";}#sk-container-id-1 div.sk-estimator input.sk-toggleable__control:checked~label.sk-toggleable__label {background-color: #d4ebff;}#sk-container-id-1 div.sk-label input.sk-toggleable__control:checked~label.sk-toggleable__label {background-color: #d4ebff;}#sk-container-id-1 input.sk-hidden--visually {border: 0;clip: rect(1px 1px 1px 1px);clip: rect(1px, 1px, 1px, 1px);height: 1px;margin: -1px;overflow: hidden;padding: 0;position: absolute;width: 1px;}#sk-container-id-1 div.sk-estimator {font-family: monospace;background-color: #f0f8ff;border: 1px dotted black;border-radius: 0.25em;box-sizing: border-box;margin-bottom: 0.5em;}#sk-container-id-1 div.sk-estimator:hover {background-color: #d4ebff;}#sk-container-id-1 div.sk-parallel-item::after {content: \"\";width: 100%;border-bottom: 1px solid gray;flex-grow: 1;}#sk-container-id-1 div.sk-label:hover label.sk-toggleable__label {background-color: #d4ebff;}#sk-container-id-1 div.sk-serial::before {content: \"\";position: absolute;border-left: 1px solid gray;box-sizing: border-box;top: 0;bottom: 0;left: 50%;z-index: 0;}#sk-container-id-1 div.sk-serial {display: flex;flex-direction: column;align-items: center;background-color: white;padding-right: 0.2em;padding-left: 0.2em;position: relative;}#sk-container-id-1 div.sk-item {position: relative;z-index: 1;}#sk-container-id-1 div.sk-parallel {display: flex;align-items: stretch;justify-content: center;background-color: white;position: relative;}#sk-container-id-1 div.sk-item::before, #sk-container-id-1 div.sk-parallel-item::before {content: \"\";position: absolute;border-left: 1px solid gray;box-sizing: border-box;top: 0;bottom: 0;left: 50%;z-index: -1;}#sk-container-id-1 div.sk-parallel-item {display: flex;flex-direction: column;z-index: 1;position: relative;background-color: white;}#sk-container-id-1 div.sk-parallel-item:first-child::after {align-self: flex-end;width: 50%;}#sk-container-id-1 div.sk-parallel-item:last-child::after {align-self: flex-start;width: 50%;}#sk-container-id-1 div.sk-parallel-item:only-child::after {width: 0;}#sk-container-id-1 div.sk-dashed-wrapped {border: 1px dashed gray;margin: 0 0.4em 0.5em 0.4em;box-sizing: border-box;padding-bottom: 0.4em;background-color: white;}#sk-container-id-1 div.sk-label label {font-family: monospace;font-weight: bold;display: inline-block;line-height: 1.2em;}#sk-container-id-1 div.sk-label-container {text-align: center;}#sk-container-id-1 div.sk-container {/* jupyter's `normalize.less` sets `[hidden] { display: none; }` but bootstrap.min.css set `[hidden] { display: none !important; }` so we also need the `!important` here to be able to override the default hidden behavior on the sphinx rendered scikit-learn.org. See: https://github.com/scikit-learn/scikit-learn/issues/21755 */display: inline-block !important;position: relative;}#sk-container-id-1 div.sk-text-repr-fallback {display: none;}</style><div id=\"sk-container-id-1\" class=\"sk-top-container\"><div class=\"sk-text-repr-fallback\"><pre>VotingClassifier(estimators=[(&#x27;random_forest&#x27;,\n                              RandomForestClassifier(random_state=42)),\n                             (&#x27;svm&#x27;, SVC(probability=True, random_state=42)),\n                             (&#x27;naive_bayes&#x27;, GaussianNB())])</pre><b>In a Jupyter environment, please rerun this cell to show the HTML representation or trust the notebook. <br />On GitHub, the HTML representation is unable to render, please try loading this page with nbviewer.org.</b></div><div class=\"sk-container\" hidden><div class=\"sk-item sk-dashed-wrapped\"><div class=\"sk-label-container\"><div class=\"sk-label sk-toggleable\"><input class=\"sk-toggleable__control sk-hidden--visually\" id=\"sk-estimator-id-1\" type=\"checkbox\" ><label for=\"sk-estimator-id-1\" class=\"sk-toggleable__label sk-toggleable__label-arrow\">VotingClassifier</label><div class=\"sk-toggleable__content\"><pre>VotingClassifier(estimators=[(&#x27;random_forest&#x27;,\n                              RandomForestClassifier(random_state=42)),\n                             (&#x27;svm&#x27;, SVC(probability=True, random_state=42)),\n                             (&#x27;naive_bayes&#x27;, GaussianNB())])</pre></div></div></div><div class=\"sk-parallel\"><div class=\"sk-parallel-item\"><div class=\"sk-item\"><div class=\"sk-label-container\"><div class=\"sk-label sk-toggleable\"><label>random_forest</label></div></div><div class=\"sk-serial\"><div class=\"sk-item\"><div class=\"sk-estimator sk-toggleable\"><input class=\"sk-toggleable__control sk-hidden--visually\" id=\"sk-estimator-id-2\" type=\"checkbox\" ><label for=\"sk-estimator-id-2\" class=\"sk-toggleable__label sk-toggleable__label-arrow\">RandomForestClassifier</label><div class=\"sk-toggleable__content\"><pre>RandomForestClassifier(random_state=42)</pre></div></div></div></div></div></div><div class=\"sk-parallel-item\"><div class=\"sk-item\"><div class=\"sk-label-container\"><div class=\"sk-label sk-toggleable\"><label>svm</label></div></div><div class=\"sk-serial\"><div class=\"sk-item\"><div class=\"sk-estimator sk-toggleable\"><input class=\"sk-toggleable__control sk-hidden--visually\" id=\"sk-estimator-id-3\" type=\"checkbox\" ><label for=\"sk-estimator-id-3\" class=\"sk-toggleable__label sk-toggleable__label-arrow\">SVC</label><div class=\"sk-toggleable__content\"><pre>SVC(probability=True, random_state=42)</pre></div></div></div></div></div></div><div class=\"sk-parallel-item\"><div class=\"sk-item\"><div class=\"sk-label-container\"><div class=\"sk-label sk-toggleable\"><label>naive_bayes</label></div></div><div class=\"sk-serial\"><div class=\"sk-item\"><div class=\"sk-estimator sk-toggleable\"><input class=\"sk-toggleable__control sk-hidden--visually\" id=\"sk-estimator-id-4\" type=\"checkbox\" ><label for=\"sk-estimator-id-4\" class=\"sk-toggleable__label sk-toggleable__label-arrow\">GaussianNB</label><div class=\"sk-toggleable__content\"><pre>GaussianNB()</pre></div></div></div></div></div></div></div></div></div></div>"
     },
     "execution_count": 17,
     "metadata": {},
     "output_type": "execute_result"
    }
   ],
   "source": [
    "# Fit the ensemble model on the training data\n",
    "voting_clf.fit(X_train_selected, y_train)"
   ],
   "metadata": {
    "collapsed": false,
    "ExecuteTime": {
     "end_time": "2024-04-20T10:44:15.051170Z",
     "start_time": "2024-04-20T09:59:51.555634Z"
    }
   },
   "id": "8aae3b3d5a87ba1e"
  },
  {
   "cell_type": "code",
   "execution_count": 18,
   "outputs": [],
   "source": [
    "# Predictions\n",
    "y_pred_ensemble = voting_clf.predict(X_test_selected)"
   ],
   "metadata": {
    "collapsed": false,
    "ExecuteTime": {
     "end_time": "2024-04-20T10:46:47.831257Z",
     "start_time": "2024-04-20T10:46:36.342800Z"
    }
   },
   "id": "f927e319a4ce70d0"
  },
  {
   "cell_type": "code",
   "execution_count": 19,
   "outputs": [],
   "source": [
    "from sklearn.metrics import accuracy_score, precision_score, f1_score\n",
    "\n",
    "# Evaluation metrics\n",
    "ensemble_accuracy = accuracy_score(y_test, y_pred_ensemble)\n",
    "ensemble_precision = precision_score(y_test, y_pred_ensemble)\n",
    "ensemble_f1 = f1_score(y_test, y_pred_ensemble)\n",
    "ensemble_conf_matrix = confusion_matrix(y_test, y_pred_ensemble)"
   ],
   "metadata": {
    "collapsed": false,
    "ExecuteTime": {
     "end_time": "2024-04-20T10:46:50.780845Z",
     "start_time": "2024-04-20T10:46:50.725669Z"
    }
   },
   "id": "f40c8d911f6caa15"
  },
  {
   "cell_type": "code",
   "execution_count": 20,
   "outputs": [
    {
     "name": "stdout",
     "output_type": "stream",
     "text": [
      "Ensemble Model Evaluation:\n",
      "Accuracy: 0.9857563741886892\n",
      "Precision: 0.9756134562142071\n",
      "F1-score: 0.9876562170048568\n",
      "Confusion Matrix:\n",
      "[[18776   643]\n",
      " [    0 25724]]\n"
     ]
    }
   ],
   "source": [
    "# Print evaluation metrics\n",
    "print(\"Ensemble Model Evaluation:\")\n",
    "print(\"Accuracy:\", ensemble_accuracy)\n",
    "print(\"Precision:\", ensemble_precision)\n",
    "print(\"F1-score:\", ensemble_f1)\n",
    "print(\"Confusion Matrix:\")\n",
    "print(ensemble_conf_matrix)"
   ],
   "metadata": {
    "collapsed": false,
    "ExecuteTime": {
     "end_time": "2024-04-20T10:46:52.977385Z",
     "start_time": "2024-04-20T10:46:52.948481Z"
    }
   },
   "id": "b7f2b32429e98529"
  },
  {
   "cell_type": "code",
   "execution_count": 21,
   "outputs": [
    {
     "data": {
      "text/plain": "<Figure size 640x480 with 1 Axes>",
      "image/png": "[encoded data removed]"
     },
     "metadata": {},
     "output_type": "display_data"
    }
   ],
   "source": [
    "# Compute probabilities for ROC curve\n",
    "y_prob = nb_model.predict_proba(X_test_selected)[:, 1]\n",
    "\n",
    "# Compute ROC curve and AUC\n",
    "fpr, tpr, thresholds = roc_curve(y_test, y_prob)\n",
    "roc_auc = auc(fpr, tpr)\n",
    "\n",
    "# Plot ROC curve\n",
    "plt.figure()\n",
    "plt.plot(fpr, tpr, color='darkorange', lw=2, label='ROC curve (area = %0.2f)' % roc_auc)\n",
    "plt.plot([0, 1], [0, 1], color='navy', lw=2, linestyle='--')\n",
    "plt.xlim([0.0, 1.0])\n",
    "plt.ylim([0.0, 1.05])\n",
    "plt.xlabel('False Positive Rate')\n",
    "plt.ylabel('True Positive Rate')\n",
    "plt.title('Receiver Operating Characteristic (ROC) Curve')\n",
    "plt.legend(loc=\"lower right\")\n",
    "plt.show()"
   ],
   "metadata": {
    "collapsed": false,
    "ExecuteTime": {
     "end_time": "2024-04-20T10:47:23.097737Z",
     "start_time": "2024-04-20T10:47:22.811626Z"
    }
   },
   "id": "5f60cc9b551771e5"
  },
  {
   "cell_type": "code",
   "execution_count": 22,
   "outputs": [
    {
     "name": "stdout",
     "output_type": "stream",
     "text": [
      "Confusion Matrix:\n",
      "[[18776   643]\n",
      " [    0 25724]]\n"
     ]
    },
    {
     "data": {
      "text/plain": "<Figure size 640x480 with 2 Axes>",
      "image/png": "[encoded data removed]"
     },
     "metadata": {},
     "output_type": "display_data"
    }
   ],
   "source": [
    "from sklearn.metrics import confusion_matrix\n",
    "\n",
    "# Compute confusion matrix\n",
    "conf_matrix = confusion_matrix(y_test, y_pred_ensemble)\n",
    "print(\"Confusion Matrix:\")\n",
    "print(conf_matrix)\n",
    "\n",
    "# Plot confusion matrix\n",
    "plt.imshow(conf_matrix, cmap=plt.cm.Blues)\n",
    "plt.title('Confusion Matrix')\n",
    "plt.colorbar()\n",
    "plt.xlabel('Predicted label')\n",
    "plt.ylabel('True label')\n",
    "plt.xticks([0, 1], ['BENIGN', 'DDoS'])\n",
    "plt.yticks([0, 1], ['BENIGN', 'DDoS'])\n",
    "plt.show()"
   ],
   "metadata": {
    "collapsed": false,
    "ExecuteTime": {
     "end_time": "2024-04-20T10:48:01.411750Z",
     "start_time": "2024-04-20T10:48:01.308325Z"
    }
   },
   "id": "f6ad865bf4dd4830"
  },
  {
   "cell_type": "code",
   "execution_count": 23,
   "outputs": [
    {
     "name": "stdout",
     "output_type": "stream",
     "text": [
      "False Positives: 643\n",
      "False Negatives: 0\n"
     ]
    }
   ],
   "source": [
    "# Extracting false positives and false negatives from confusion matrix\n",
    "FP = conf_matrix[0, 1]  # False positives: predicted DDoS, actual BENIGN\n",
    "FN = conf_matrix[1, 0]  # False negatives: predicted BENIGN, actual DDoS\n",
    "\n",
    "print(\"False Positives:\", FP)\n",
    "print(\"False Negatives:\", FN)"
   ],
   "metadata": {
    "collapsed": false,
    "ExecuteTime": {
     "end_time": "2024-04-20T10:48:14.861434Z",
     "start_time": "2024-04-20T10:48:14.837613Z"
    }
   },
   "id": "61aa9a20ddab7722"
  },
  {
   "cell_type": "code",
   "execution_count": 24,
   "outputs": [
    {
     "name": "stdout",
     "output_type": "stream",
     "text": [
      "Number of test values: 45143\n"
     ]
    }
   ],
   "source": [
    "# Number of test values\n",
    "num_test_values = len(y_test)\n",
    "print(\"Number of test values:\", num_test_values)"
   ],
   "metadata": {
    "collapsed": false,
    "ExecuteTime": {
     "end_time": "2024-04-20T10:48:23.145365Z",
     "start_time": "2024-04-20T10:48:23.124323Z"
    }
   },
   "id": "1963b9f2d24e0380"
  },
  {
   "cell_type": "code",
   "execution_count": 25,
   "outputs": [
    {
     "name": "stdout",
     "output_type": "stream",
     "text": [
      "Percentage of False Positives and False Negatives: 1.42%\n"
     ]
    }
   ],
   "source": [
    "# Calculate percentage of false positives and false negatives\n",
    "percentage = ((FP + FN) / num_test_values) * 100\n",
    "\n",
    "print(\"Percentage of False Positives and False Negatives: {:.2f}%\".format(percentage))"
   ],
   "metadata": {
    "collapsed": false,
    "ExecuteTime": {
     "end_time": "2024-04-20T10:48:31.422261Z",
     "start_time": "2024-04-20T10:48:31.388677Z"
    }
   },
   "id": "34fd724a318d321b"
  },
  {
   "cell_type": "code",
   "execution_count": 26,
   "outputs": [
    {
     "data": {
      "text/plain": "['ddos_ensemble_1.pkl']"
     },
     "execution_count": 26,
     "metadata": {},
     "output_type": "execute_result"
    }
   ],
   "source": [
    "import joblib\n",
    "\n",
    "# Save the trained model to a file\n",
    "joblib.dump(voting_clf, 'ddos_ensemble_1.pkl')\n",
    "\n",
    "# Load the model from file\n",
    "# loaded_model = joblib.load('svm_model.pkl')"
   ],
   "metadata": {
    "collapsed": false,
    "ExecuteTime": {
     "end_time": "2024-04-20T10:49:01.898164Z",
     "start_time": "2024-04-20T10:49:01.845156Z"
    }
   },
   "id": "b8cf16858ca64ab"
  },
  {
   "cell_type": "code",
   "execution_count": 28,
   "outputs": [
    {
     "name": "stdout",
     "output_type": "stream",
     "text": [
      "accuracy : 0.9857563741886892\n",
      "precision : 0.9756134562142071\n",
      "f1 : 0.9876562170048568\n"
     ]
    },
    {
     "data": {
      "text/plain": "<Figure size 1000x600 with 1 Axes>",
      "image/png": "[encoded data removed]"
     },
     "metadata": {},
     "output_type": "display_data"
    }
   ],
   "source": [
    "# Compute evaluation metrics\n",
    "accuracy = accuracy_score(y_test, y_pred_ensemble)\n",
    "precision = precision_score(y_test, y_pred_ensemble)\n",
    "f1 = f1_score(y_test, y_pred_ensemble)\n",
    "\n",
    "# Create grouped bar chart\n",
    "metrics = ['Accuracy', 'Precision', 'F1-score']\n",
    "values = [accuracy, precision, f1]\n",
    "print('accuracy : ' + str(accuracy))\n",
    "print('precision : ' + str(precision))\n",
    "print('f1 : ' + str(f1))\n",
    "\n",
    "# Plotting\n",
    "plt.figure(figsize=(10, 6))\n",
    "plt.bar(metrics, values, color=['blue', 'green', 'red'])\n",
    "plt.ylabel('Score')\n",
    "plt.title('Evaluation Metrics')\n",
    "plt.ylim(0, 1)  # Setting y-axis limit to be between 0 and 1\n",
    "plt.text(-0.1, accuracy + 0.05, f'{accuracy:.2f}', fontsize=12, color='black')\n",
    "plt.text(0.9, precision + 0.05, f'{precision:.2f}', fontsize=12, color='black')\n",
    "plt.text(1.9, f1 + 0.05, f'{f1:.2f}', fontsize=12, color='black')\n",
    "plt.show()"
   ],
   "metadata": {
    "collapsed": false,
    "ExecuteTime": {
     "end_time": "2024-04-20T10:50:27.310848Z",
     "start_time": "2024-04-20T10:50:27.211442Z"
    }
   },
   "id": "307c8f64d9766b24"
  },
  {
   "cell_type": "code",
   "execution_count": null,
   "outputs": [],
   "source": [],
   "metadata": {
    "collapsed": false
   },
   "id": "a2350e77f4d8a774"
  }
 ],
 "metadata": {
  "kernelspec": {
   "display_name": "Python 3",
   "language": "python",
   "name": "python3"
  },
  "language_info": {
   "codemirror_mode": {
    "name": "ipython",
    "version": 2
   },
   "file_extension": ".py",
   "mimetype": "text/x-python",
   "name": "python",
   "nbconvert_exporter": "python",
   "pygments_lexer": "ipython2",
   "version": "2.7.6"
  }
 },
 "nbformat": 4,
 "nbformat_minor": 5
}
