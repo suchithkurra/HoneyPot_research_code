{
 "cells": [
  {
   "cell_type": "code",
   "execution_count": 7,
   "outputs": [],
   "source": [
    "import pandas as pd\n",
    "from sklearn.model_selection import train_test_split\n",
    "from sklearn.preprocessing import StandardScaler\n",
    "from sklearn.ensemble import VotingClassifier\n",
    "import joblib\n",
    "\n",
    "from sklearn.feature_selection import SelectKBest, f_classif\n",
    "import numpy as np\n",
    "from sklearn.metrics import classification_report, confusion_matrix, roc_curve, auc\n",
    "import matplotlib.pyplot as plt"
   ],
   "metadata": {
    "collapsed": false,
    "ExecuteTime": {
     "end_time": "2024-07-15T18:33:56.011585Z",
     "start_time": "2024-07-15T18:33:55.491035Z"
    }
   },
   "id": "6b6f36805c458394"
  },
  {
   "cell_type": "code",
   "execution_count": 8,
   "outputs": [],
   "source": [
    "# Load the dataset\n",
    "data = pd.read_csv('/Users/suchithkurra/Desktop/Honey_Pot Research/data/DDoS.csv')"
   ],
   "metadata": {
    "collapsed": false,
    "ExecuteTime": {
     "end_time": "2024-07-15T18:33:57.104112Z",
     "start_time": "2024-07-15T18:33:55.497499Z"
    }
   },
   "id": "775ed9ace8dc11ee"
  },
  {
   "cell_type": "code",
   "execution_count": 9,
   "outputs": [],
   "source": [
    "# Data preprocessing\n",
    "# Drop any rows with missing values\n",
    "data.dropna(inplace=True)"
   ],
   "metadata": {
    "collapsed": false,
    "ExecuteTime": {
     "end_time": "2024-07-15T18:33:57.280825Z",
     "start_time": "2024-07-15T18:33:57.118077Z"
    }
   },
   "id": "614dd19ce1876476"
  },
  {
   "cell_type": "code",
   "execution_count": 10,
   "outputs": [],
   "source": [
    "# Replace infinite or very large values with NaN\n",
    "data.replace([np.inf, -np.inf], np.nan, inplace=True)"
   ],
   "metadata": {
    "collapsed": false,
    "ExecuteTime": {
     "end_time": "2024-07-15T18:33:57.352561Z",
     "start_time": "2024-07-15T18:33:57.270718Z"
    }
   },
   "id": "85cac3b4a57e1587"
  },
  {
   "cell_type": "code",
   "execution_count": 11,
   "outputs": [],
   "source": [
    "# Drop rows containing NaN values\n",
    "data.dropna(inplace=True)"
   ],
   "metadata": {
    "collapsed": false,
    "ExecuteTime": {
     "end_time": "2024-07-15T18:33:57.596688Z",
     "start_time": "2024-07-15T18:33:57.544763Z"
    }
   },
   "id": "ed712453c41fba7c"
  },
  {
   "cell_type": "code",
   "execution_count": 12,
   "outputs": [],
   "source": [
    "from sklearn.preprocessing import LabelEncoder\n",
    "\n",
    "# Encode target variable\n",
    "label_encoder = LabelEncoder()\n",
    "data['Label'] = label_encoder.fit_transform(data['Label'])"
   ],
   "metadata": {
    "collapsed": false,
    "ExecuteTime": {
     "end_time": "2024-07-15T18:33:57.649404Z",
     "start_time": "2024-07-15T18:33:57.639515Z"
    }
   },
   "id": "a8c5671c37f4daa6"
  },
  {
   "cell_type": "code",
   "execution_count": 13,
   "outputs": [],
   "source": [
    "# Split features and target variable\n",
    "X = data.drop('Label', axis=1)\n",
    "y = data['Label']"
   ],
   "metadata": {
    "collapsed": false,
    "ExecuteTime": {
     "end_time": "2024-07-15T18:33:57.757124Z",
     "start_time": "2024-07-15T18:33:57.651432Z"
    }
   },
   "id": "13b4be784d761ee9"
  },
  {
   "cell_type": "code",
   "execution_count": 14,
   "outputs": [],
   "source": [
    "X_train, X_test, y_train, y_test = train_test_split(X, y, test_size=0.2, random_state=42)\n"
   ],
   "metadata": {
    "collapsed": false,
    "ExecuteTime": {
     "end_time": "2024-07-15T18:33:58.042414Z",
     "start_time": "2024-07-15T18:33:57.744109Z"
    }
   },
   "id": "45428a41943e05ca"
  },
  {
   "cell_type": "code",
   "execution_count": 15,
   "outputs": [],
   "source": [
    "# Feature scaling\n",
    "scaler = StandardScaler()\n",
    "X_train_scaled = scaler.fit_transform(X_train)\n",
    "X_test_scaled = scaler.transform(X_test)"
   ],
   "metadata": {
    "collapsed": false,
    "ExecuteTime": {
     "end_time": "2024-07-15T18:33:58.612477Z",
     "start_time": "2024-07-15T18:33:58.002164Z"
    }
   },
   "id": "30ec9a4963d30154"
  },
  {
   "cell_type": "code",
   "execution_count": 16,
   "outputs": [],
   "source": [
    "# SelectKBest with ANOVA F-value\n",
    "k = 20  # Number of top features to select\n",
    "selector = SelectKBest(score_func=f_classif, k=k)\n",
    "X_train_selected = selector.fit_transform(X_train_scaled, y_train)\n",
    "X_test_selected = selector.transform(X_test_scaled)"
   ],
   "metadata": {
    "collapsed": false,
    "ExecuteTime": {
     "end_time": "2024-07-15T18:33:58.794049Z",
     "start_time": "2024-07-15T18:33:58.606848Z"
    }
   },
   "id": "cfacb06d1ea0e1c8"
  },
  {
   "cell_type": "code",
   "execution_count": 17,
   "outputs": [],
   "source": [
    "selected_features_indices = selector.get_support(indices=True)"
   ],
   "metadata": {
    "collapsed": false,
    "ExecuteTime": {
     "end_time": "2024-07-15T18:33:58.794387Z",
     "start_time": "2024-07-15T18:33:58.791816Z"
    }
   },
   "id": "f4fb322f4844973b"
  },
  {
   "cell_type": "code",
   "execution_count": 18,
   "outputs": [],
   "source": [
    "selected_feature_names = X.columns[selected_features_indices]"
   ],
   "metadata": {
    "collapsed": false,
    "ExecuteTime": {
     "end_time": "2024-07-15T18:33:58.805690Z",
     "start_time": "2024-07-15T18:33:58.795048Z"
    }
   },
   "id": "e5f81ebf9ece3316"
  },
  {
   "cell_type": "code",
   "execution_count": 19,
   "outputs": [
    {
     "name": "stdout",
     "output_type": "stream",
     "text": [
      "Selected features:\n",
      "Index([' Destination Port', 'Total Length of Fwd Packets',\n",
      "       ' Fwd Packet Length Max', ' Fwd Packet Length Mean',\n",
      "       'Bwd Packet Length Max', ' Bwd Packet Length Min',\n",
      "       ' Bwd Packet Length Mean', ' Bwd Packet Length Std', 'Bwd IAT Total',\n",
      "       ' Min Packet Length', ' Max Packet Length', ' Packet Length Mean',\n",
      "       ' Packet Length Std', ' Packet Length Variance', ' URG Flag Count',\n",
      "       ' Average Packet Size', ' Avg Fwd Segment Size',\n",
      "       ' Avg Bwd Segment Size', ' Subflow Fwd Bytes', ' min_seg_size_forward'],\n",
      "      dtype='object')\n"
     ]
    }
   ],
   "source": [
    "# Print the selected feature names\n",
    "print(\"Selected features:\")\n",
    "print(selected_feature_names)"
   ],
   "metadata": {
    "collapsed": false,
    "ExecuteTime": {
     "end_time": "2024-07-15T18:33:58.806689Z",
     "start_time": "2024-07-15T18:33:58.798579Z"
    }
   },
   "id": "cc7bb0bbec98fa7"
  },
  {
   "cell_type": "code",
   "execution_count": 20,
   "outputs": [],
   "source": [
    "# Load the saved models\n",
    "rf_model = joblib.load('/Users/suchithkurra/Desktop/Honey_Pot Research/HoneyPot_research_code/random_forest_model_ddos.pkl')\n",
    "svm_model = joblib.load('/Users/suchithkurra/Desktop/Honey_Pot Research/HoneyPot_research_code/models/DDoS_svm_model.pkl')\n",
    "nb_model = joblib.load('/Users/suchithkurra/Desktop/Honey_Pot Research/HoneyPot_research_code/models/DDoS_nb_model.pkl')"
   ],
   "metadata": {
    "collapsed": false,
    "ExecuteTime": {
     "end_time": "2024-07-15T18:33:58.876361Z",
     "start_time": "2024-07-15T18:33:58.805949Z"
    }
   },
   "id": "c09d0aeb0135e2e0"
  },
  {
   "cell_type": "code",
   "execution_count": 21,
   "outputs": [],
   "source": [
    "# Create a voting classifier\n",
    "voting_clf = VotingClassifier(estimators=[\n",
    "    ('random_forest', rf_model),\n",
    "    ('svm', svm_model),\n",
    "    ('naive_bayes', nb_model)\n",
    "], voting='hard')"
   ],
   "metadata": {
    "collapsed": false,
    "ExecuteTime": {
     "end_time": "2024-07-15T18:33:58.883897Z",
     "start_time": "2024-07-15T18:33:58.827679Z"
    }
   },
   "id": "3d8ed1afd72b6020"
  },
  {
   "cell_type": "code",
   "execution_count": null,
   "outputs": [],
   "source": [
    "# Fit the ensemble model on the training data\n",
    "voting_clf.fit(X_train_selected, y_train)"
   ],
   "metadata": {
    "collapsed": false,
    "is_executing": true,
    "ExecuteTime": {
     "start_time": "2024-07-15T18:33:58.832663Z"
    }
   },
   "id": "8aae3b3d5a87ba1e"
  },
  {
   "cell_type": "code",
   "execution_count": null,
   "outputs": [],
   "source": [
    "# Predictions\n",
    "y_pred_ensemble = voting_clf.predict(X_test_selected)"
   ],
   "metadata": {
    "collapsed": false,
    "is_executing": true
   },
   "id": "f927e319a4ce70d0"
  },
  {
   "cell_type": "code",
   "execution_count": null,
   "outputs": [],
   "source": [
    "from sklearn.metrics import accuracy_score, precision_score, f1_score\n",
    "\n",
    "# Evaluation metrics\n",
    "ensemble_accuracy = accuracy_score(y_test, y_pred_ensemble)\n",
    "ensemble_precision = precision_score(y_test, y_pred_ensemble)\n",
    "ensemble_f1 = f1_score(y_test, y_pred_ensemble)\n",
    "ensemble_conf_matrix = confusion_matrix(y_test, y_pred_ensemble)"
   ],
   "metadata": {
    "collapsed": false,
    "is_executing": true
   },
   "id": "f40c8d911f6caa15"
  },
  {
   "cell_type": "code",
   "execution_count": null,
   "outputs": [],
   "source": [
    "# Print evaluation metrics\n",
    "print(\"Ensemble Model Evaluation:\")\n",
    "print(\"Accuracy:\", ensemble_accuracy)\n",
    "print(\"Precision:\", ensemble_precision)\n",
    "print(\"F1-score:\", ensemble_f1)\n",
    "print(\"Confusion Matrix:\")\n",
    "print(ensemble_conf_matrix)"
   ],
   "metadata": {
    "collapsed": false,
    "is_executing": true
   },
   "id": "b7f2b32429e98529"
  },
  {
   "cell_type": "code",
   "execution_count": null,
   "outputs": [],
   "source": [
    "# Compute probabilities for ROC curve\n",
    "y_prob = nb_model.predict_proba(X_test_selected)[:, 1]\n",
    "\n",
    "# Compute ROC curve and AUC\n",
    "fpr, tpr, thresholds = roc_curve(y_test, y_prob)\n",
    "roc_auc = auc(fpr, tpr)\n",
    "\n",
    "# Plot ROC curve\n",
    "plt.figure()\n",
    "plt.plot(fpr, tpr, color='darkorange', lw=2, label='ROC curve (area = %0.2f)' % roc_auc)\n",
    "plt.plot([0, 1], [0, 1], color='navy', lw=2, linestyle='--')\n",
    "plt.xlim([0.0, 1.0])\n",
    "plt.ylim([0.0, 1.05])\n",
    "plt.xlabel('False Positive Rate')\n",
    "plt.ylabel('True Positive Rate')\n",
    "plt.title('Receiver Operating Characteristic (ROC) Curve')\n",
    "plt.legend(loc=\"lower right\")\n",
    "plt.show()"
   ],
   "metadata": {
    "collapsed": false,
    "is_executing": true
   },
   "id": "5f60cc9b551771e5"
  },
  {
   "cell_type": "code",
   "execution_count": null,
   "outputs": [],
   "source": [
    "from sklearn.metrics import confusion_matrix\n",
    "\n",
    "# Compute confusion matrix\n",
    "conf_matrix = confusion_matrix(y_test, y_pred_ensemble)\n",
    "print(\"Confusion Matrix:\")\n",
    "print(conf_matrix)\n",
    "\n",
    "# Plot confusion matrix\n",
    "plt.imshow(conf_matrix, cmap=plt.cm.Blues)\n",
    "plt.title('Confusion Matrix')\n",
    "plt.colorbar()\n",
    "plt.xlabel('Predicted label')\n",
    "plt.ylabel('True label')\n",
    "plt.xticks([0, 1], ['BENIGN', 'DDoS'])\n",
    "plt.yticks([0, 1], ['BENIGN', 'DDoS'])\n",
    "plt.show()"
   ],
   "metadata": {
    "collapsed": false,
    "is_executing": true
   },
   "id": "f6ad865bf4dd4830"
  },
  {
   "cell_type": "code",
   "execution_count": null,
   "outputs": [],
   "source": [
    "# Extracting false positives and false negatives from confusion matrix\n",
    "FP = conf_matrix[0, 1]  # False positives: predicted DDoS, actual BENIGN\n",
    "FN = conf_matrix[1, 0]  # False negatives: predicted BENIGN, actual DDoS\n",
    "\n",
    "print(\"False Positives:\", FP)\n",
    "print(\"False Negatives:\", FN)"
   ],
   "metadata": {
    "collapsed": false,
    "is_executing": true
   },
   "id": "61aa9a20ddab7722"
  },
  {
   "cell_type": "code",
   "execution_count": null,
   "outputs": [],
   "source": [
    "# Number of test values\n",
    "num_test_values = len(y_test)\n",
    "print(\"Number of test values:\", num_test_values)"
   ],
   "metadata": {
    "collapsed": false,
    "is_executing": true
   },
   "id": "1963b9f2d24e0380"
  },
  {
   "cell_type": "code",
   "execution_count": null,
   "outputs": [],
   "source": [
    "# Calculate percentage of false positives and false negatives\n",
    "percentage = ((FP + FN) / num_test_values) * 100\n",
    "\n",
    "print(\"Percentage of False Positives and False Negatives: {:.2f}%\".format(percentage))"
   ],
   "metadata": {
    "collapsed": false,
    "is_executing": true
   },
   "id": "34fd724a318d321b"
  },
  {
   "cell_type": "code",
   "execution_count": null,
   "outputs": [],
   "source": [
    "import joblib\n",
    "\n",
    "# Save the trained model to a file\n",
    "joblib.dump(voting_clf, 'ddos_ensemble_1.pkl')\n",
    "\n",
    "# Load the model from file\n",
    "# loaded_model = joblib.load('svm_model.pkl')"
   ],
   "metadata": {
    "collapsed": false,
    "is_executing": true
   },
   "id": "b8cf16858ca64ab"
  },
  {
   "cell_type": "code",
   "execution_count": null,
   "outputs": [],
   "source": [
    "# Compute evaluation metrics\n",
    "accuracy = accuracy_score(y_test, y_pred_ensemble)\n",
    "precision = precision_score(y_test, y_pred_ensemble)\n",
    "f1 = f1_score(y_test, y_pred_ensemble)\n",
    "\n",
    "# Create grouped bar chart\n",
    "metrics = ['Accuracy', 'Precision', 'F1-score']\n",
    "values = [accuracy, precision, f1]\n",
    "print('accuracy : ' + str(accuracy))\n",
    "print('precision : ' + str(precision))\n",
    "print('f1 : ' + str(f1))\n",
    "\n",
    "# Plotting\n",
    "plt.figure(figsize=(10, 6))\n",
    "plt.bar(metrics, values, color=['blue', 'green', 'red'])\n",
    "plt.ylabel('Score')\n",
    "plt.title('Evaluation Metrics')\n",
    "plt.ylim(0, 1)  # Setting y-axis limit to be between 0 and 1\n",
    "plt.text(-0.1, accuracy + 0.05, f'{accuracy:.2f}', fontsize=12, color='black')\n",
    "plt.text(0.9, precision + 0.05, f'{precision:.2f}', fontsize=12, color='black')\n",
    "plt.text(1.9, f1 + 0.05, f'{f1:.2f}', fontsize=12, color='black')\n",
    "plt.show()"
   ],
   "metadata": {
    "collapsed": false,
    "is_executing": true
   },
   "id": "307c8f64d9766b24"
  },
  {
   "cell_type": "code",
   "execution_count": null,
   "outputs": [],
   "source": [],
   "metadata": {
    "collapsed": false,
    "is_executing": true
   },
   "id": "a2350e77f4d8a774"
  }
 ],
 "metadata": {
  "kernelspec": {
   "display_name": "Python 3",
   "language": "python",
   "name": "python3"
  },
  "language_info": {
   "codemirror_mode": {
    "name": "ipython",
    "version": 2
   },
   "file_extension": ".py",
   "mimetype": "text/x-python",
   "name": "python",
   "nbconvert_exporter": "python",
   "pygments_lexer": "ipython2",
   "version": "2.7.6"
  }
 },
 "nbformat": 4,
 "nbformat_minor": 5
}
