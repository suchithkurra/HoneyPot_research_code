{
 "cells": [
  {
   "cell_type": "code",
   "execution_count": 1,
   "id": "initial_id",
   "metadata": {
    "collapsed": true,
    "ExecuteTime": {
     "end_time": "2024-04-24T09:07:29.182962Z",
     "start_time": "2024-04-24T09:07:28.882090Z"
    }
   },
   "outputs": [],
   "source": [
    "import pandas as pd\n",
    "from sklearn.model_selection import train_test_split\n",
    "from sklearn.preprocessing import StandardScaler\n",
    "from sklearn.ensemble import VotingClassifier\n",
    "import joblib\n",
    "\n",
    "from sklearn.feature_selection import SelectKBest, f_classif\n",
    "import numpy as np\n",
    "from sklearn.metrics import classification_report, confusion_matrix, roc_curve, auc\n",
    "import matplotlib.pyplot as plt"
   ]
  },
  {
   "cell_type": "code",
   "execution_count": 2,
   "outputs": [],
   "source": [
    "# Load the dataset\n",
    "data = pd.read_csv('/Users/suchithkurra/Desktop/Honey_Pot Research/data/patator.csv')"
   ],
   "metadata": {
    "collapsed": false,
    "ExecuteTime": {
     "end_time": "2024-04-24T09:07:31.192996Z",
     "start_time": "2024-04-24T09:07:29.156758Z"
    }
   },
   "id": "e0ebece9e3a19eab"
  },
  {
   "cell_type": "code",
   "execution_count": 3,
   "outputs": [],
   "source": [
    "# Data preprocessing\n",
    "# Drop any rows with missing values\n",
    "data.dropna(inplace=True)"
   ],
   "metadata": {
    "collapsed": false,
    "ExecuteTime": {
     "end_time": "2024-04-24T09:07:31.388765Z",
     "start_time": "2024-04-24T09:07:31.190328Z"
    }
   },
   "id": "142d82f6f47a8dc"
  },
  {
   "cell_type": "code",
   "execution_count": 4,
   "outputs": [],
   "source": [
    "# Replace infinite or very large values with NaN\n",
    "data.replace([np.inf, -np.inf], np.nan, inplace=True)"
   ],
   "metadata": {
    "collapsed": false,
    "ExecuteTime": {
     "end_time": "2024-04-24T09:07:31.422878Z",
     "start_time": "2024-04-24T09:07:31.356487Z"
    }
   },
   "id": "ebeb8b173349b773"
  },
  {
   "cell_type": "code",
   "execution_count": 5,
   "outputs": [],
   "source": [
    "# Drop rows containing NaN values\n",
    "data.dropna(inplace=True)"
   ],
   "metadata": {
    "collapsed": false,
    "ExecuteTime": {
     "end_time": "2024-04-24T09:07:31.562480Z",
     "start_time": "2024-04-24T09:07:31.424572Z"
    }
   },
   "id": "69c60e030925809d"
  },
  {
   "cell_type": "code",
   "execution_count": 6,
   "outputs": [],
   "source": [
    "from sklearn.preprocessing import LabelEncoder\n",
    "\n",
    "# Encode target variable\n",
    "label_encoder = LabelEncoder()\n",
    "data['Label'] = label_encoder.fit_transform(data['Label'])"
   ],
   "metadata": {
    "collapsed": false,
    "ExecuteTime": {
     "end_time": "2024-04-24T09:07:31.598522Z",
     "start_time": "2024-04-24T09:07:31.595797Z"
    }
   },
   "id": "2bf20dc5ac3a67cc"
  },
  {
   "cell_type": "code",
   "execution_count": 7,
   "outputs": [],
   "source": [
    "# Split features and target variable\n",
    "X = data.drop('Label', axis=1)\n",
    "y = data['Label']"
   ],
   "metadata": {
    "collapsed": false,
    "ExecuteTime": {
     "end_time": "2024-04-24T09:07:31.666125Z",
     "start_time": "2024-04-24T09:07:31.599573Z"
    }
   },
   "id": "8f526196a5109608"
  },
  {
   "cell_type": "code",
   "execution_count": 8,
   "outputs": [],
   "source": [
    "X_train, X_test, y_train, y_test = train_test_split(X, y, test_size=0.2, random_state=42)\n"
   ],
   "metadata": {
    "collapsed": false,
    "ExecuteTime": {
     "end_time": "2024-04-24T09:07:31.836232Z",
     "start_time": "2024-04-24T09:07:31.667138Z"
    }
   },
   "id": "585ed1dc0c3190f9"
  },
  {
   "cell_type": "code",
   "execution_count": 9,
   "outputs": [],
   "source": [
    "# Feature scaling\n",
    "scaler = StandardScaler()\n",
    "X_train_scaled = scaler.fit_transform(X_train)\n",
    "X_test_scaled = scaler.transform(X_test)"
   ],
   "metadata": {
    "collapsed": false,
    "ExecuteTime": {
     "end_time": "2024-04-24T09:07:32.259114Z",
     "start_time": "2024-04-24T09:07:31.837702Z"
    }
   },
   "id": "f3be8375d42a2cd"
  },
  {
   "cell_type": "code",
   "execution_count": 10,
   "outputs": [],
   "source": [
    "# SelectKBest with ANOVA F-value\n",
    "k = 20  # Number of top features to select\n",
    "selector = SelectKBest(score_func=f_classif, k=k)\n",
    "X_train_selected = selector.fit_transform(X_train_scaled, y_train)\n",
    "X_test_selected = selector.transform(X_test_scaled)"
   ],
   "metadata": {
    "collapsed": false,
    "ExecuteTime": {
     "end_time": "2024-04-24T09:07:32.660222Z",
     "start_time": "2024-04-24T09:07:32.252777Z"
    }
   },
   "id": "4fe184b0cc9c7c9f"
  },
  {
   "cell_type": "code",
   "execution_count": 11,
   "outputs": [],
   "source": [
    "selected_features_indices = selector.get_support(indices=True)"
   ],
   "metadata": {
    "collapsed": false,
    "ExecuteTime": {
     "end_time": "2024-04-24T09:07:32.662849Z",
     "start_time": "2024-04-24T09:07:32.660012Z"
    }
   },
   "id": "902c3f96fc2a79a0"
  },
  {
   "cell_type": "code",
   "execution_count": 12,
   "outputs": [],
   "source": [
    "selected_feature_names = X.columns[selected_features_indices]"
   ],
   "metadata": {
    "collapsed": false,
    "ExecuteTime": {
     "end_time": "2024-04-24T09:07:32.664706Z",
     "start_time": "2024-04-24T09:07:32.661540Z"
    }
   },
   "id": "ad032fefcf4949b0"
  },
  {
   "cell_type": "code",
   "execution_count": 13,
   "outputs": [
    {
     "name": "stdout",
     "output_type": "stream",
     "text": [
      "Selected features:\n",
      "Index(['Destination Port', 'Fwd Packet Length Min', 'Bwd Packet Length Max',\n",
      "       'Bwd Packet Length Min', 'Bwd Packet Length Mean',\n",
      "       'Bwd Packet Length Std', 'Fwd PSH Flags', 'Min Packet Length',\n",
      "       'Max Packet Length', 'Packet Length Mean', 'Packet Length Std',\n",
      "       'SYN Flag Count', 'PSH Flag Count', 'ACK Flag Count', 'URG Flag Count',\n",
      "       'Down/Up Ratio', 'Average Packet Size', 'Avg Bwd Segment Size',\n",
      "       'Init_Win_bytes_forward', 'act_data_pkt_fwd'],\n",
      "      dtype='object')\n"
     ]
    }
   ],
   "source": [
    "# Print the selected feature names\n",
    "print(\"Selected features:\")\n",
    "print(selected_feature_names)"
   ],
   "metadata": {
    "collapsed": false,
    "ExecuteTime": {
     "end_time": "2024-04-24T09:07:32.667684Z",
     "start_time": "2024-04-24T09:07:32.663371Z"
    }
   },
   "id": "479ee0f58e6db16d"
  },
  {
   "cell_type": "code",
   "execution_count": 14,
   "outputs": [],
   "source": [
    "# Load the saved models\n",
    "rf_model = joblib.load('/Users/suchithkurra/Desktop/Honey_Pot Research/HoneyPot_research_code/models/rf_model_patator.pkl')\n",
    "svm_model = joblib.load('/Users/suchithkurra/Desktop/Honey_Pot Research/HoneyPot_research_code/models/patator_svm.pkl')\n",
    "lg_model = joblib.load('/Users/suchithkurra/Desktop/Honey_Pot Research/HoneyPot_research_code/models/patator_logistic.pkl')"
   ],
   "metadata": {
    "collapsed": false,
    "ExecuteTime": {
     "end_time": "2024-04-24T09:07:32.720571Z",
     "start_time": "2024-04-24T09:07:32.669078Z"
    }
   },
   "id": "b6144337b8aafafa"
  },
  {
   "cell_type": "code",
   "execution_count": 15,
   "outputs": [],
   "source": [
    "# Create a voting classifier\n",
    "voting_clf = VotingClassifier(estimators=[\n",
    "    ('random_forest', rf_model),\n",
    "    ('svm', svm_model),\n",
    "    ('logistic regression', lg_model)\n",
    "], voting='hard')"
   ],
   "metadata": {
    "collapsed": false,
    "ExecuteTime": {
     "end_time": "2024-04-24T09:07:32.726660Z",
     "start_time": "2024-04-24T09:07:32.689576Z"
    }
   },
   "id": "6b316175cf3bcb39"
  },
  {
   "cell_type": "code",
   "execution_count": 16,
   "outputs": [
    {
     "name": "stderr",
     "output_type": "stream",
     "text": [
      "/opt/anaconda3/lib/python3.11/site-packages/sklearn/linear_model/_logistic.py:458: ConvergenceWarning: lbfgs failed to converge (status=1):\n",
      "STOP: TOTAL NO. of ITERATIONS REACHED LIMIT.\n",
      "\n",
      "Increase the number of iterations (max_iter) or scale the data as shown in:\n",
      "    https://scikit-learn.org/stable/modules/preprocessing.html\n",
      "Please also refer to the documentation for alternative solver options:\n",
      "    https://scikit-learn.org/stable/modules/linear_model.html#logistic-regression\n",
      "  n_iter_i = _check_optimize_result(\n"
     ]
    },
    {
     "data": {
      "text/plain": "VotingClassifier(estimators=[('random_forest',\n                              RandomForestClassifier(random_state=42)),\n                             ('svm', SVC(kernel='linear', probability=True)),\n                             ('logistic regression',\n                              LogisticRegression(max_iter=1000))])",
      "text/html": "<style>#sk-container-id-1 {color: black;background-color: white;}#sk-container-id-1 pre{padding: 0;}#sk-container-id-1 div.sk-toggleable {background-color: white;}#sk-container-id-1 label.sk-toggleable__label {cursor: pointer;display: block;width: 100%;margin-bottom: 0;padding: 0.3em;box-sizing: border-box;text-align: center;}#sk-container-id-1 label.sk-toggleable__label-arrow:before {content: \"▸\";float: left;margin-right: 0.25em;color: #696969;}#sk-container-id-1 label.sk-toggleable__label-arrow:hover:before {color: black;}#sk-container-id-1 div.sk-estimator:hover label.sk-toggleable__label-arrow:before {color: black;}#sk-container-id-1 div.sk-toggleable__content {max-height: 0;max-width: 0;overflow: hidden;text-align: left;background-color: #f0f8ff;}#sk-container-id-1 div.sk-toggleable__content pre {margin: 0.2em;color: black;border-radius: 0.25em;background-color: #f0f8ff;}#sk-container-id-1 input.sk-toggleable__control:checked~div.sk-toggleable__content {max-height: 200px;max-width: 100%;overflow: auto;}#sk-container-id-1 input.sk-toggleable__control:checked~label.sk-toggleable__label-arrow:before {content: \"▾\";}#sk-container-id-1 div.sk-estimator input.sk-toggleable__control:checked~label.sk-toggleable__label {background-color: #d4ebff;}#sk-container-id-1 div.sk-label input.sk-toggleable__control:checked~label.sk-toggleable__label {background-color: #d4ebff;}#sk-container-id-1 input.sk-hidden--visually {border: 0;clip: rect(1px 1px 1px 1px);clip: rect(1px, 1px, 1px, 1px);height: 1px;margin: -1px;overflow: hidden;padding: 0;position: absolute;width: 1px;}#sk-container-id-1 div.sk-estimator {font-family: monospace;background-color: #f0f8ff;border: 1px dotted black;border-radius: 0.25em;box-sizing: border-box;margin-bottom: 0.5em;}#sk-container-id-1 div.sk-estimator:hover {background-color: #d4ebff;}#sk-container-id-1 div.sk-parallel-item::after {content: \"\";width: 100%;border-bottom: 1px solid gray;flex-grow: 1;}#sk-container-id-1 div.sk-label:hover label.sk-toggleable__label {background-color: #d4ebff;}#sk-container-id-1 div.sk-serial::before {content: \"\";position: absolute;border-left: 1px solid gray;box-sizing: border-box;top: 0;bottom: 0;left: 50%;z-index: 0;}#sk-container-id-1 div.sk-serial {display: flex;flex-direction: column;align-items: center;background-color: white;padding-right: 0.2em;padding-left: 0.2em;position: relative;}#sk-container-id-1 div.sk-item {position: relative;z-index: 1;}#sk-container-id-1 div.sk-parallel {display: flex;align-items: stretch;justify-content: center;background-color: white;position: relative;}#sk-container-id-1 div.sk-item::before, #sk-container-id-1 div.sk-parallel-item::before {content: \"\";position: absolute;border-left: 1px solid gray;box-sizing: border-box;top: 0;bottom: 0;left: 50%;z-index: -1;}#sk-container-id-1 div.sk-parallel-item {display: flex;flex-direction: column;z-index: 1;position: relative;background-color: white;}#sk-container-id-1 div.sk-parallel-item:first-child::after {align-self: flex-end;width: 50%;}#sk-container-id-1 div.sk-parallel-item:last-child::after {align-self: flex-start;width: 50%;}#sk-container-id-1 div.sk-parallel-item:only-child::after {width: 0;}#sk-container-id-1 div.sk-dashed-wrapped {border: 1px dashed gray;margin: 0 0.4em 0.5em 0.4em;box-sizing: border-box;padding-bottom: 0.4em;background-color: white;}#sk-container-id-1 div.sk-label label {font-family: monospace;font-weight: bold;display: inline-block;line-height: 1.2em;}#sk-container-id-1 div.sk-label-container {text-align: center;}#sk-container-id-1 div.sk-container {/* jupyter's `normalize.less` sets `[hidden] { display: none; }` but bootstrap.min.css set `[hidden] { display: none !important; }` so we also need the `!important` here to be able to override the default hidden behavior on the sphinx rendered scikit-learn.org. See: https://github.com/scikit-learn/scikit-learn/issues/21755 */display: inline-block !important;position: relative;}#sk-container-id-1 div.sk-text-repr-fallback {display: none;}</style><div id=\"sk-container-id-1\" class=\"sk-top-container\"><div class=\"sk-text-repr-fallback\"><pre>VotingClassifier(estimators=[(&#x27;random_forest&#x27;,\n                              RandomForestClassifier(random_state=42)),\n                             (&#x27;svm&#x27;, SVC(kernel=&#x27;linear&#x27;, probability=True)),\n                             (&#x27;logistic regression&#x27;,\n                              LogisticRegression(max_iter=1000))])</pre><b>In a Jupyter environment, please rerun this cell to show the HTML representation or trust the notebook. <br />On GitHub, the HTML representation is unable to render, please try loading this page with nbviewer.org.</b></div><div class=\"sk-container\" hidden><div class=\"sk-item sk-dashed-wrapped\"><div class=\"sk-label-container\"><div class=\"sk-label sk-toggleable\"><input class=\"sk-toggleable__control sk-hidden--visually\" id=\"sk-estimator-id-1\" type=\"checkbox\" ><label for=\"sk-estimator-id-1\" class=\"sk-toggleable__label sk-toggleable__label-arrow\">VotingClassifier</label><div class=\"sk-toggleable__content\"><pre>VotingClassifier(estimators=[(&#x27;random_forest&#x27;,\n                              RandomForestClassifier(random_state=42)),\n                             (&#x27;svm&#x27;, SVC(kernel=&#x27;linear&#x27;, probability=True)),\n                             (&#x27;logistic regression&#x27;,\n                              LogisticRegression(max_iter=1000))])</pre></div></div></div><div class=\"sk-parallel\"><div class=\"sk-parallel-item\"><div class=\"sk-item\"><div class=\"sk-label-container\"><div class=\"sk-label sk-toggleable\"><label>random_forest</label></div></div><div class=\"sk-serial\"><div class=\"sk-item\"><div class=\"sk-estimator sk-toggleable\"><input class=\"sk-toggleable__control sk-hidden--visually\" id=\"sk-estimator-id-2\" type=\"checkbox\" ><label for=\"sk-estimator-id-2\" class=\"sk-toggleable__label sk-toggleable__label-arrow\">RandomForestClassifier</label><div class=\"sk-toggleable__content\"><pre>RandomForestClassifier(random_state=42)</pre></div></div></div></div></div></div><div class=\"sk-parallel-item\"><div class=\"sk-item\"><div class=\"sk-label-container\"><div class=\"sk-label sk-toggleable\"><label>svm</label></div></div><div class=\"sk-serial\"><div class=\"sk-item\"><div class=\"sk-estimator sk-toggleable\"><input class=\"sk-toggleable__control sk-hidden--visually\" id=\"sk-estimator-id-3\" type=\"checkbox\" ><label for=\"sk-estimator-id-3\" class=\"sk-toggleable__label sk-toggleable__label-arrow\">SVC</label><div class=\"sk-toggleable__content\"><pre>SVC(kernel=&#x27;linear&#x27;, probability=True)</pre></div></div></div></div></div></div><div class=\"sk-parallel-item\"><div class=\"sk-item\"><div class=\"sk-label-container\"><div class=\"sk-label sk-toggleable\"><label>logistic regression</label></div></div><div class=\"sk-serial\"><div class=\"sk-item\"><div class=\"sk-estimator sk-toggleable\"><input class=\"sk-toggleable__control sk-hidden--visually\" id=\"sk-estimator-id-4\" type=\"checkbox\" ><label for=\"sk-estimator-id-4\" class=\"sk-toggleable__label sk-toggleable__label-arrow\">LogisticRegression</label><div class=\"sk-toggleable__content\"><pre>LogisticRegression(max_iter=1000)</pre></div></div></div></div></div></div></div></div></div></div>"
     },
     "execution_count": 16,
     "metadata": {},
     "output_type": "execute_result"
    }
   ],
   "source": [
    "# Fit the ensemble model on the training data\n",
    "voting_clf.fit(X_train_selected, y_train)"
   ],
   "metadata": {
    "collapsed": false,
    "ExecuteTime": {
     "end_time": "2024-04-24T10:00:31.317024Z",
     "start_time": "2024-04-24T09:07:32.693167Z"
    }
   },
   "id": "459db7c522e477a7"
  },
  {
   "cell_type": "code",
   "execution_count": 17,
   "outputs": [],
   "source": [
    "# Predictions\n",
    "y_pred_ensemble = voting_clf.predict(X_test_selected)"
   ],
   "metadata": {
    "collapsed": false,
    "ExecuteTime": {
     "end_time": "2024-04-24T10:00:51.526340Z",
     "start_time": "2024-04-24T10:00:31.121557Z"
    }
   },
   "id": "43d9b0d9f6db43fd"
  },
  {
   "cell_type": "code",
   "execution_count": 18,
   "outputs": [],
   "source": [
    "from sklearn.metrics import accuracy_score, precision_score, f1_score\n",
    "\n",
    "# Evaluation metrics\n",
    "ensemble_accuracy = accuracy_score(y_test, y_pred_ensemble)\n",
    "ensemble_precision = precision_score(y_test, y_pred_ensemble, average='weighted')\n",
    "ensemble_f1 = f1_score(y_test, y_pred_ensemble, average='weighted')\n",
    "ensemble_conf_matrix = confusion_matrix(y_test, y_pred_ensemble)"
   ],
   "metadata": {
    "collapsed": false,
    "ExecuteTime": {
     "end_time": "2024-04-24T10:00:52.216863Z",
     "start_time": "2024-04-24T10:00:51.524606Z"
    }
   },
   "id": "6bb8def98a37d22a"
  },
  {
   "cell_type": "code",
   "execution_count": 19,
   "outputs": [
    {
     "name": "stdout",
     "output_type": "stream",
     "text": [
      "Ensemble Model Evaluation:\n",
      "Accuracy: 0.9897676401620124\n",
      "Precision: 0.9896997929475011\n",
      "F1-score: 0.9885889576936057\n",
      "Confusion Matrix:\n",
      "[[86055   219    36]\n",
      " [    8  1579     0]\n",
      " [  645     4   583]]\n"
     ]
    }
   ],
   "source": [
    "# Print evaluation metrics\n",
    "print(\"Ensemble Model Evaluation:\")\n",
    "print(\"Accuracy:\", ensemble_accuracy)\n",
    "print(\"Precision:\", ensemble_precision)\n",
    "print(\"F1-score:\", ensemble_f1)\n",
    "print(\"Confusion Matrix:\")\n",
    "print(ensemble_conf_matrix)"
   ],
   "metadata": {
    "collapsed": false,
    "ExecuteTime": {
     "end_time": "2024-04-24T10:00:52.218353Z",
     "start_time": "2024-04-24T10:00:51.570372Z"
    }
   },
   "id": "8490254d0253083f"
  },
  {
   "cell_type": "code",
   "execution_count": 20,
   "outputs": [
    {
     "ename": "AttributeError",
     "evalue": "predict_proba is not available when voting='hard'",
     "output_type": "error",
     "traceback": [
      "\u001B[0;31m---------------------------------------------------------------------------\u001B[0m",
      "\u001B[0;31mAttributeError\u001B[0m                            Traceback (most recent call last)",
      "Cell \u001B[0;32mIn[20], line 2\u001B[0m\n\u001B[1;32m      1\u001B[0m \u001B[38;5;66;03m# Define class names\u001B[39;00m\n\u001B[0;32m----> 2\u001B[0m y_probs \u001B[38;5;241m=\u001B[39m voting_clf\u001B[38;5;241m.\u001B[39mpredict_proba(X_test_selected)\n\u001B[1;32m      4\u001B[0m class_names \u001B[38;5;241m=\u001B[39m [\u001B[38;5;124m'\u001B[39m\u001B[38;5;124mbenign\u001B[39m\u001B[38;5;124m'\u001B[39m, \u001B[38;5;124m'\u001B[39m\u001B[38;5;124mweb attack brute force\u001B[39m\u001B[38;5;124m'\u001B[39m, \u001B[38;5;124m'\u001B[39m\u001B[38;5;124mweb attack sql injection\u001B[39m\u001B[38;5;124m'\u001B[39m, \u001B[38;5;124m'\u001B[39m\u001B[38;5;124mweb attack xss\u001B[39m\u001B[38;5;124m'\u001B[39m]\n\u001B[1;32m      5\u001B[0m \u001B[38;5;66;03m# Compute ROC curve for each class\u001B[39;00m\n",
      "File \u001B[0;32m/opt/anaconda3/lib/python3.11/site-packages/sklearn/utils/_available_if.py:32\u001B[0m, in \u001B[0;36m_AvailableIfDescriptor.__get__\u001B[0;34m(self, obj, owner)\u001B[0m\n\u001B[1;32m     26\u001B[0m attr_err \u001B[38;5;241m=\u001B[39m \u001B[38;5;167;01mAttributeError\u001B[39;00m(\n\u001B[1;32m     27\u001B[0m     \u001B[38;5;124mf\u001B[39m\u001B[38;5;124m\"\u001B[39m\u001B[38;5;124mThis \u001B[39m\u001B[38;5;132;01m{\u001B[39;00m\u001B[38;5;28mrepr\u001B[39m(owner\u001B[38;5;241m.\u001B[39m\u001B[38;5;18m__name__\u001B[39m)\u001B[38;5;132;01m}\u001B[39;00m\u001B[38;5;124m has no attribute \u001B[39m\u001B[38;5;132;01m{\u001B[39;00m\u001B[38;5;28mrepr\u001B[39m(\u001B[38;5;28mself\u001B[39m\u001B[38;5;241m.\u001B[39mattribute_name)\u001B[38;5;132;01m}\u001B[39;00m\u001B[38;5;124m\"\u001B[39m\n\u001B[1;32m     28\u001B[0m )\n\u001B[1;32m     29\u001B[0m \u001B[38;5;28;01mif\u001B[39;00m obj \u001B[38;5;129;01mis\u001B[39;00m \u001B[38;5;129;01mnot\u001B[39;00m \u001B[38;5;28;01mNone\u001B[39;00m:\n\u001B[1;32m     30\u001B[0m     \u001B[38;5;66;03m# delegate only on instances, not the classes.\u001B[39;00m\n\u001B[1;32m     31\u001B[0m     \u001B[38;5;66;03m# this is to allow access to the docstrings.\u001B[39;00m\n\u001B[0;32m---> 32\u001B[0m     \u001B[38;5;28;01mif\u001B[39;00m \u001B[38;5;129;01mnot\u001B[39;00m \u001B[38;5;28mself\u001B[39m\u001B[38;5;241m.\u001B[39mcheck(obj):\n\u001B[1;32m     33\u001B[0m         \u001B[38;5;28;01mraise\u001B[39;00m attr_err\n\u001B[1;32m     34\u001B[0m     out \u001B[38;5;241m=\u001B[39m MethodType(\u001B[38;5;28mself\u001B[39m\u001B[38;5;241m.\u001B[39mfn, obj)\n",
      "File \u001B[0;32m/opt/anaconda3/lib/python3.11/site-packages/sklearn/ensemble/_voting.py:383\u001B[0m, in \u001B[0;36mVotingClassifier._check_voting\u001B[0;34m(self)\u001B[0m\n\u001B[1;32m    381\u001B[0m \u001B[38;5;28;01mdef\u001B[39;00m \u001B[38;5;21m_check_voting\u001B[39m(\u001B[38;5;28mself\u001B[39m):\n\u001B[1;32m    382\u001B[0m     \u001B[38;5;28;01mif\u001B[39;00m \u001B[38;5;28mself\u001B[39m\u001B[38;5;241m.\u001B[39mvoting \u001B[38;5;241m==\u001B[39m \u001B[38;5;124m\"\u001B[39m\u001B[38;5;124mhard\u001B[39m\u001B[38;5;124m\"\u001B[39m:\n\u001B[0;32m--> 383\u001B[0m         \u001B[38;5;28;01mraise\u001B[39;00m \u001B[38;5;167;01mAttributeError\u001B[39;00m(\n\u001B[1;32m    384\u001B[0m             \u001B[38;5;124mf\u001B[39m\u001B[38;5;124m\"\u001B[39m\u001B[38;5;124mpredict_proba is not available when voting=\u001B[39m\u001B[38;5;132;01m{\u001B[39;00m\u001B[38;5;28mrepr\u001B[39m(\u001B[38;5;28mself\u001B[39m\u001B[38;5;241m.\u001B[39mvoting)\u001B[38;5;132;01m}\u001B[39;00m\u001B[38;5;124m\"\u001B[39m\n\u001B[1;32m    385\u001B[0m         )\n\u001B[1;32m    386\u001B[0m     \u001B[38;5;28;01mreturn\u001B[39;00m \u001B[38;5;28;01mTrue\u001B[39;00m\n",
      "\u001B[0;31mAttributeError\u001B[0m: predict_proba is not available when voting='hard'"
     ]
    }
   ],
   "source": [
    "# Define class names\n",
    "y_probs = voting_clf.predict_proba(X_test_selected)\n",
    "\n",
    "class_names = ['benign', 'web attack brute force', 'web attack sql injection', 'web attack xss']\n",
    "# Compute ROC curve for each class\n",
    "plt.figure(figsize=(10, 8))\n",
    "for i in range(len(voting_clf.classes_)):\n",
    "    fpr, tpr, _ = roc_curve(y_test == voting_clf.classes_[i], y_probs[:, i])\n",
    "    roc_auc = auc(fpr, tpr)\n",
    "    plt.plot(fpr, tpr, lw=2, label=class_names[i])\n",
    "\n",
    "plt.plot([0, 1], [0, 1], color='navy', lw=2, linestyle='--')\n",
    "plt.xlim([0.0, 1.0])\n",
    "plt.ylim([0.0, 1.05])\n",
    "plt.xlabel('False Positive Rate')\n",
    "plt.ylabel('True Positive Rate')\n",
    "plt.title('Receiver Operating Characteristic')\n",
    "plt.legend(loc=\"lower right\")\n",
    "plt.show()"
   ],
   "metadata": {
    "collapsed": false,
    "ExecuteTime": {
     "end_time": "2024-04-24T10:00:52.617171Z",
     "start_time": "2024-04-24T10:00:51.586927Z"
    }
   },
   "id": "ba1d5e4944b9b6a0"
  },
  {
   "cell_type": "code",
   "execution_count": 21,
   "outputs": [
    {
     "data": {
      "text/plain": "<Figure size 1000x800 with 2 Axes>",
      "image/png": "[encoded data removed]"
     },
     "metadata": {},
     "output_type": "display_data"
    }
   ],
   "source": [
    "from sklearn.metrics import confusion_matrix\n",
    "import seaborn as sns\n",
    "\n",
    "# Compute confusion matrix\n",
    "conf_matrix = confusion_matrix(y_test, y_pred_ensemble)\n",
    "\n",
    "# Plot confusion matrix\n",
    "plt.figure(figsize=(10, 8))\n",
    "sns.heatmap(conf_matrix, annot=True, fmt='d', cmap='Blues')\n",
    "plt.xlabel('Predicted')\n",
    "plt.ylabel('True')\n",
    "plt.title('Confusion Matrix')\n",
    "plt.show()\n"
   ],
   "metadata": {
    "collapsed": false,
    "ExecuteTime": {
     "end_time": "2024-04-24T10:09:50.809873Z",
     "start_time": "2024-04-24T10:09:50.219641Z"
    }
   },
   "id": "6ff6b741cd21b23e"
  },
  {
   "cell_type": "code",
   "execution_count": 22,
   "outputs": [
    {
     "name": "stdout",
     "output_type": "stream",
     "text": [
      "False Positives: 219\n",
      "False Negatives: 8\n"
     ]
    }
   ],
   "source": [
    "# Extracting false positives and false negatives from confusion matrix\n",
    "FP = conf_matrix[0, 1]  # False positives: predicted DDoS, actual BENIGN\n",
    "FN = conf_matrix[1, 0]  # False negatives: predicted BENIGN, actual DDoS\n",
    "\n",
    "print(\"False Positives:\", FP)\n",
    "print(\"False Negatives:\", FN)"
   ],
   "metadata": {
    "collapsed": false,
    "ExecuteTime": {
     "end_time": "2024-04-24T10:09:55.684689Z",
     "start_time": "2024-04-24T10:09:55.666457Z"
    }
   },
   "id": "20c91c6da4dd0528"
  },
  {
   "cell_type": "code",
   "execution_count": 23,
   "outputs": [
    {
     "name": "stdout",
     "output_type": "stream",
     "text": [
      "Number of test values: 89129\n"
     ]
    }
   ],
   "source": [
    "# Number of test values\n",
    "num_test_values = len(y_test)\n",
    "print(\"Number of test values:\", num_test_values)"
   ],
   "metadata": {
    "collapsed": false,
    "ExecuteTime": {
     "end_time": "2024-04-24T10:09:56.537388Z",
     "start_time": "2024-04-24T10:09:56.519756Z"
    }
   },
   "id": "f1e52cf474878105"
  },
  {
   "cell_type": "code",
   "execution_count": 24,
   "outputs": [
    {
     "name": "stdout",
     "output_type": "stream",
     "text": [
      "Percentage of False Positives and False Negatives: 0.25%\n"
     ]
    }
   ],
   "source": [
    "# Calculate percentage of false positives and false negatives\n",
    "percentage = ((FP + FN) / num_test_values) * 100\n",
    "\n",
    "print(\"Percentage of False Positives and False Negatives: {:.2f}%\".format(percentage))"
   ],
   "metadata": {
    "collapsed": false,
    "ExecuteTime": {
     "end_time": "2024-04-24T10:09:57.601800Z",
     "start_time": "2024-04-24T10:09:57.594183Z"
    }
   },
   "id": "43cfac1c5a7be2be"
  },
  {
   "cell_type": "code",
   "execution_count": 25,
   "outputs": [
    {
     "data": {
      "text/plain": "['patator_ensemble.pkl']"
     },
     "execution_count": 25,
     "metadata": {},
     "output_type": "execute_result"
    }
   ],
   "source": [
    "import joblib\n",
    "\n",
    "# Save the trained model to a file\n",
    "joblib.dump(voting_clf, 'patator_ensemble.pkl')\n",
    "\n",
    "# Load the model from file\n",
    "# loaded_model = joblib.load('svm_model.pkl')"
   ],
   "metadata": {
    "collapsed": false,
    "ExecuteTime": {
     "end_time": "2024-04-24T10:09:58.813415Z",
     "start_time": "2024-04-24T10:09:58.726306Z"
    }
   },
   "id": "3d51b171bdca8752"
  },
  {
   "cell_type": "code",
   "execution_count": null,
   "outputs": [],
   "source": [],
   "metadata": {
    "collapsed": false
   },
   "id": "ccfe1623ec9ed4d3"
  }
 ],
 "metadata": {
  "kernelspec": {
   "display_name": "Python 3",
   "language": "python",
   "name": "python3"
  },
  "language_info": {
   "codemirror_mode": {
    "name": "ipython",
    "version": 2
   },
   "file_extension": ".py",
   "mimetype": "text/x-python",
   "name": "python",
   "nbconvert_exporter": "python",
   "pygments_lexer": "ipython2",
   "version": "2.7.6"
  }
 },
 "nbformat": 4,
 "nbformat_minor": 5
}
