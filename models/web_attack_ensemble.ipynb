{
 "cells": [
  {
   "cell_type": "code",
   "execution_count": 1,
   "id": "initial_id",
   "metadata": {
    "collapsed": true,
    "ExecuteTime": {
     "end_time": "2024-07-15T15:27:17.835431Z",
     "start_time": "2024-07-15T15:27:17.632273Z"
    }
   },
   "outputs": [],
   "source": [
    "import pandas as pd\n",
    "from sklearn.model_selection import train_test_split\n",
    "from sklearn.preprocessing import StandardScaler\n",
    "from sklearn.ensemble import VotingClassifier\n",
    "import joblib\n",
    "\n",
    "from sklearn.feature_selection import SelectKBest, f_classif\n",
    "import numpy as np\n",
    "from sklearn.metrics import classification_report, confusion_matrix, roc_curve, auc\n",
    "import matplotlib.pyplot as plt"
   ]
  },
  {
   "cell_type": "code",
   "execution_count": 2,
   "outputs": [],
   "source": [
    "# Load the dataset\n",
    "data = pd.read_csv('/Users/suchithkurra/Desktop/Honey_Pot Research/data/Web_attack.csv')"
   ],
   "metadata": {
    "collapsed": false,
    "ExecuteTime": {
     "end_time": "2024-07-15T15:27:18.361790Z",
     "start_time": "2024-07-15T15:27:17.835796Z"
    }
   },
   "id": "d68c6f3c3c0cab59"
  },
  {
   "cell_type": "code",
   "execution_count": 3,
   "outputs": [],
   "source": [
    "# Data preprocessing\n",
    "# Drop any rows with missing values\n",
    "data.dropna(inplace=True)"
   ],
   "metadata": {
    "collapsed": false,
    "ExecuteTime": {
     "end_time": "2024-07-15T15:27:18.403162Z",
     "start_time": "2024-07-15T15:27:18.359007Z"
    }
   },
   "id": "62e5039bd4d700d1"
  },
  {
   "cell_type": "code",
   "execution_count": 4,
   "outputs": [],
   "source": [
    "# Replace infinite or very large values with NaN\n",
    "data.replace([np.inf, -np.inf], np.nan, inplace=True)"
   ],
   "metadata": {
    "collapsed": false,
    "ExecuteTime": {
     "end_time": "2024-07-15T15:27:18.436784Z",
     "start_time": "2024-07-15T15:27:18.404433Z"
    }
   },
   "id": "7d0d85641777bd91"
  },
  {
   "cell_type": "code",
   "execution_count": 5,
   "outputs": [],
   "source": [
    "# Drop rows containing NaN values\n",
    "data.dropna(inplace=True)"
   ],
   "metadata": {
    "collapsed": false,
    "ExecuteTime": {
     "end_time": "2024-07-15T15:27:18.465453Z",
     "start_time": "2024-07-15T15:27:18.437054Z"
    }
   },
   "id": "8848bd3ae4bfcc83"
  },
  {
   "cell_type": "code",
   "execution_count": 6,
   "outputs": [],
   "source": [
    "from sklearn.preprocessing import LabelEncoder\n",
    "\n",
    "# Encode target variable\n",
    "label_encoder = LabelEncoder()\n",
    "data['Label'] = label_encoder.fit_transform(data['Label'])"
   ],
   "metadata": {
    "collapsed": false,
    "ExecuteTime": {
     "end_time": "2024-07-15T15:27:18.478388Z",
     "start_time": "2024-07-15T15:27:18.476344Z"
    }
   },
   "id": "84af63b4ad60ffea"
  },
  {
   "cell_type": "code",
   "execution_count": 7,
   "outputs": [],
   "source": [
    "# Split features and target variable\n",
    "X = data.drop('Label', axis=1)\n",
    "y = data['Label']"
   ],
   "metadata": {
    "collapsed": false,
    "ExecuteTime": {
     "end_time": "2024-07-15T15:27:18.490038Z",
     "start_time": "2024-07-15T15:27:18.480294Z"
    }
   },
   "id": "ee63b6dc4cb9e4eb"
  },
  {
   "cell_type": "code",
   "execution_count": 8,
   "outputs": [],
   "source": [
    "X_train, X_test, y_train, y_test = train_test_split(X, y, test_size=0.2, random_state=42)\n"
   ],
   "metadata": {
    "collapsed": false,
    "ExecuteTime": {
     "end_time": "2024-07-15T15:27:18.529896Z",
     "start_time": "2024-07-15T15:27:18.490140Z"
    }
   },
   "id": "55b66ccc853ea454"
  },
  {
   "cell_type": "code",
   "execution_count": 9,
   "outputs": [],
   "source": [
    "# Feature scaling\n",
    "scaler = StandardScaler()\n",
    "X_train_scaled = scaler.fit_transform(X_train)\n",
    "X_test_scaled = scaler.transform(X_test)"
   ],
   "metadata": {
    "collapsed": false,
    "ExecuteTime": {
     "end_time": "2024-07-15T15:27:18.601526Z",
     "start_time": "2024-07-15T15:27:18.531740Z"
    }
   },
   "id": "f79a68afecb6c79"
  },
  {
   "cell_type": "code",
   "execution_count": 10,
   "outputs": [],
   "source": [
    "# SelectKBest with ANOVA F-value\n",
    "k = 20  # Number of top features to select\n",
    "selector = SelectKBest(score_func=f_classif, k=k)\n",
    "X_train_selected = selector.fit_transform(X_train_scaled, y_train)\n",
    "X_test_selected = selector.transform(X_test_scaled)"
   ],
   "metadata": {
    "collapsed": false,
    "ExecuteTime": {
     "end_time": "2024-07-15T15:27:18.699145Z",
     "start_time": "2024-07-15T15:27:18.603511Z"
    }
   },
   "id": "ba1e9c659165a41d"
  },
  {
   "cell_type": "code",
   "execution_count": 11,
   "outputs": [],
   "source": [
    "selected_features_indices = selector.get_support(indices=True)"
   ],
   "metadata": {
    "collapsed": false,
    "ExecuteTime": {
     "end_time": "2024-07-15T15:27:18.702391Z",
     "start_time": "2024-07-15T15:27:18.699981Z"
    }
   },
   "id": "72f5f36211a6aa4d"
  },
  {
   "cell_type": "code",
   "execution_count": 12,
   "outputs": [],
   "source": [
    "selected_feature_names = X.columns[selected_features_indices]"
   ],
   "metadata": {
    "collapsed": false,
    "ExecuteTime": {
     "end_time": "2024-07-15T15:27:18.709665Z",
     "start_time": "2024-07-15T15:27:18.701920Z"
    }
   },
   "id": "acb62b062d54767c"
  },
  {
   "cell_type": "code",
   "execution_count": 13,
   "outputs": [
    {
     "name": "stdout",
     "output_type": "stream",
     "text": [
      "Selected features:\n",
      "Index(['Destination Port', 'Fwd Packet Length Min', 'Fwd Packet Length Mean',\n",
      "       'Bwd Packet Length Max', 'Bwd Packet Length Min',\n",
      "       'Bwd Packet Length Mean', 'Fwd IAT Std', 'Min Packet Length',\n",
      "       'Max Packet Length', 'Packet Length Mean', 'Packet Length Std',\n",
      "       'PSH Flag Count', 'ACK Flag Count', 'Down/Up Ratio',\n",
      "       'Average Packet Size', ' Avg Fwd Segment Size', 'Avg Bwd Segment Size',\n",
      "       'Init_Win_bytes_forward', 'Init_Win_bytes_backward',\n",
      "       'min_seg_size_forward'],\n",
      "      dtype='object')\n"
     ]
    }
   ],
   "source": [
    "# Print the selected feature names\n",
    "print(\"Selected features:\")\n",
    "print(selected_feature_names)"
   ],
   "metadata": {
    "collapsed": false,
    "ExecuteTime": {
     "end_time": "2024-07-15T15:27:18.710266Z",
     "start_time": "2024-07-15T15:27:18.705937Z"
    }
   },
   "id": "242c6019b8ed5c2a"
  },
  {
   "cell_type": "code",
   "execution_count": 14,
   "outputs": [],
   "source": [
    "# Load the saved models\n",
    "rf_model = joblib.load('/Users/suchithkurra/Desktop/Honey_Pot Research/HoneyPot_research_code/models/web_attack_rfmodel.pkl')\n",
    "svm_model = joblib.load('/Users/suchithkurra/Desktop/Honey_Pot Research/HoneyPot_research_code/models/web_attack_svm.pkl')\n",
    "lg_model = joblib.load('/Users/suchithkurra/Desktop/Honey_Pot Research/HoneyPot_research_code/models/web_attack_logisticreg.pkl')"
   ],
   "metadata": {
    "collapsed": false,
    "ExecuteTime": {
     "end_time": "2024-07-15T15:27:18.760114Z",
     "start_time": "2024-07-15T15:27:18.709992Z"
    }
   },
   "id": "21472df6f843eef8"
  },
  {
   "cell_type": "code",
   "execution_count": 15,
   "outputs": [],
   "source": [
    "# Create a voting classifier\n",
    "voting_clf = VotingClassifier(estimators=[\n",
    "    ('random_forest', rf_model),\n",
    "    ('svm', svm_model),\n",
    "    ('logistic regression', lg_model)\n",
    "], voting='hard')"
   ],
   "metadata": {
    "collapsed": false,
    "ExecuteTime": {
     "end_time": "2024-07-15T15:27:18.760324Z",
     "start_time": "2024-07-15T15:27:18.736342Z"
    }
   },
   "id": "53201b598bffb36f"
  },
  {
   "cell_type": "code",
   "execution_count": 16,
   "outputs": [
    {
     "data": {
      "text/plain": "VotingClassifier(estimators=[('random_forest',\n                              RandomForestClassifier(random_state=42)),\n                             ('svm', SVC(kernel='linear', probability=True)),\n                             ('logistic regression',\n                              LogisticRegression(max_iter=1000))])",
      "text/html": "<style>#sk-container-id-1 {color: black;background-color: white;}#sk-container-id-1 pre{padding: 0;}#sk-container-id-1 div.sk-toggleable {background-color: white;}#sk-container-id-1 label.sk-toggleable__label {cursor: pointer;display: block;width: 100%;margin-bottom: 0;padding: 0.3em;box-sizing: border-box;text-align: center;}#sk-container-id-1 label.sk-toggleable__label-arrow:before {content: \"▸\";float: left;margin-right: 0.25em;color: #696969;}#sk-container-id-1 label.sk-toggleable__label-arrow:hover:before {color: black;}#sk-container-id-1 div.sk-estimator:hover label.sk-toggleable__label-arrow:before {color: black;}#sk-container-id-1 div.sk-toggleable__content {max-height: 0;max-width: 0;overflow: hidden;text-align: left;background-color: #f0f8ff;}#sk-container-id-1 div.sk-toggleable__content pre {margin: 0.2em;color: black;border-radius: 0.25em;background-color: #f0f8ff;}#sk-container-id-1 input.sk-toggleable__control:checked~div.sk-toggleable__content {max-height: 200px;max-width: 100%;overflow: auto;}#sk-container-id-1 input.sk-toggleable__control:checked~label.sk-toggleable__label-arrow:before {content: \"▾\";}#sk-container-id-1 div.sk-estimator input.sk-toggleable__control:checked~label.sk-toggleable__label {background-color: #d4ebff;}#sk-container-id-1 div.sk-label input.sk-toggleable__control:checked~label.sk-toggleable__label {background-color: #d4ebff;}#sk-container-id-1 input.sk-hidden--visually {border: 0;clip: rect(1px 1px 1px 1px);clip: rect(1px, 1px, 1px, 1px);height: 1px;margin: -1px;overflow: hidden;padding: 0;position: absolute;width: 1px;}#sk-container-id-1 div.sk-estimator {font-family: monospace;background-color: #f0f8ff;border: 1px dotted black;border-radius: 0.25em;box-sizing: border-box;margin-bottom: 0.5em;}#sk-container-id-1 div.sk-estimator:hover {background-color: #d4ebff;}#sk-container-id-1 div.sk-parallel-item::after {content: \"\";width: 100%;border-bottom: 1px solid gray;flex-grow: 1;}#sk-container-id-1 div.sk-label:hover label.sk-toggleable__label {background-color: #d4ebff;}#sk-container-id-1 div.sk-serial::before {content: \"\";position: absolute;border-left: 1px solid gray;box-sizing: border-box;top: 0;bottom: 0;left: 50%;z-index: 0;}#sk-container-id-1 div.sk-serial {display: flex;flex-direction: column;align-items: center;background-color: white;padding-right: 0.2em;padding-left: 0.2em;position: relative;}#sk-container-id-1 div.sk-item {position: relative;z-index: 1;}#sk-container-id-1 div.sk-parallel {display: flex;align-items: stretch;justify-content: center;background-color: white;position: relative;}#sk-container-id-1 div.sk-item::before, #sk-container-id-1 div.sk-parallel-item::before {content: \"\";position: absolute;border-left: 1px solid gray;box-sizing: border-box;top: 0;bottom: 0;left: 50%;z-index: -1;}#sk-container-id-1 div.sk-parallel-item {display: flex;flex-direction: column;z-index: 1;position: relative;background-color: white;}#sk-container-id-1 div.sk-parallel-item:first-child::after {align-self: flex-end;width: 50%;}#sk-container-id-1 div.sk-parallel-item:last-child::after {align-self: flex-start;width: 50%;}#sk-container-id-1 div.sk-parallel-item:only-child::after {width: 0;}#sk-container-id-1 div.sk-dashed-wrapped {border: 1px dashed gray;margin: 0 0.4em 0.5em 0.4em;box-sizing: border-box;padding-bottom: 0.4em;background-color: white;}#sk-container-id-1 div.sk-label label {font-family: monospace;font-weight: bold;display: inline-block;line-height: 1.2em;}#sk-container-id-1 div.sk-label-container {text-align: center;}#sk-container-id-1 div.sk-container {/* jupyter's `normalize.less` sets `[hidden] { display: none; }` but bootstrap.min.css set `[hidden] { display: none !important; }` so we also need the `!important` here to be able to override the default hidden behavior on the sphinx rendered scikit-learn.org. See: https://github.com/scikit-learn/scikit-learn/issues/21755 */display: inline-block !important;position: relative;}#sk-container-id-1 div.sk-text-repr-fallback {display: none;}</style><div id=\"sk-container-id-1\" class=\"sk-top-container\"><div class=\"sk-text-repr-fallback\"><pre>VotingClassifier(estimators=[(&#x27;random_forest&#x27;,\n                              RandomForestClassifier(random_state=42)),\n                             (&#x27;svm&#x27;, SVC(kernel=&#x27;linear&#x27;, probability=True)),\n                             (&#x27;logistic regression&#x27;,\n                              LogisticRegression(max_iter=1000))])</pre><b>In a Jupyter environment, please rerun this cell to show the HTML representation or trust the notebook. <br />On GitHub, the HTML representation is unable to render, please try loading this page with nbviewer.org.</b></div><div class=\"sk-container\" hidden><div class=\"sk-item sk-dashed-wrapped\"><div class=\"sk-label-container\"><div class=\"sk-label sk-toggleable\"><input class=\"sk-toggleable__control sk-hidden--visually\" id=\"sk-estimator-id-1\" type=\"checkbox\" ><label for=\"sk-estimator-id-1\" class=\"sk-toggleable__label sk-toggleable__label-arrow\">VotingClassifier</label><div class=\"sk-toggleable__content\"><pre>VotingClassifier(estimators=[(&#x27;random_forest&#x27;,\n                              RandomForestClassifier(random_state=42)),\n                             (&#x27;svm&#x27;, SVC(kernel=&#x27;linear&#x27;, probability=True)),\n                             (&#x27;logistic regression&#x27;,\n                              LogisticRegression(max_iter=1000))])</pre></div></div></div><div class=\"sk-parallel\"><div class=\"sk-parallel-item\"><div class=\"sk-item\"><div class=\"sk-label-container\"><div class=\"sk-label sk-toggleable\"><label>random_forest</label></div></div><div class=\"sk-serial\"><div class=\"sk-item\"><div class=\"sk-estimator sk-toggleable\"><input class=\"sk-toggleable__control sk-hidden--visually\" id=\"sk-estimator-id-2\" type=\"checkbox\" ><label for=\"sk-estimator-id-2\" class=\"sk-toggleable__label sk-toggleable__label-arrow\">RandomForestClassifier</label><div class=\"sk-toggleable__content\"><pre>RandomForestClassifier(random_state=42)</pre></div></div></div></div></div></div><div class=\"sk-parallel-item\"><div class=\"sk-item\"><div class=\"sk-label-container\"><div class=\"sk-label sk-toggleable\"><label>svm</label></div></div><div class=\"sk-serial\"><div class=\"sk-item\"><div class=\"sk-estimator sk-toggleable\"><input class=\"sk-toggleable__control sk-hidden--visually\" id=\"sk-estimator-id-3\" type=\"checkbox\" ><label for=\"sk-estimator-id-3\" class=\"sk-toggleable__label sk-toggleable__label-arrow\">SVC</label><div class=\"sk-toggleable__content\"><pre>SVC(kernel=&#x27;linear&#x27;, probability=True)</pre></div></div></div></div></div></div><div class=\"sk-parallel-item\"><div class=\"sk-item\"><div class=\"sk-label-container\"><div class=\"sk-label sk-toggleable\"><label>logistic regression</label></div></div><div class=\"sk-serial\"><div class=\"sk-item\"><div class=\"sk-estimator sk-toggleable\"><input class=\"sk-toggleable__control sk-hidden--visually\" id=\"sk-estimator-id-4\" type=\"checkbox\" ><label for=\"sk-estimator-id-4\" class=\"sk-toggleable__label sk-toggleable__label-arrow\">LogisticRegression</label><div class=\"sk-toggleable__content\"><pre>LogisticRegression(max_iter=1000)</pre></div></div></div></div></div></div></div></div></div></div>"
     },
     "execution_count": 16,
     "metadata": {},
     "output_type": "execute_result"
    }
   ],
   "source": [
    "# Fit the ensemble model on the training data\n",
    "voting_clf.fit(X_train_selected, y_train)"
   ],
   "metadata": {
    "collapsed": false,
    "ExecuteTime": {
     "end_time": "2024-07-15T15:28:29.129696Z",
     "start_time": "2024-07-15T15:27:18.738964Z"
    }
   },
   "id": "a8497eea74a5af85"
  },
  {
   "cell_type": "code",
   "execution_count": 17,
   "outputs": [],
   "source": [
    "# Predictions\n",
    "y_pred_ensemble = voting_clf.predict(X_test_selected)"
   ],
   "metadata": {
    "collapsed": false,
    "ExecuteTime": {
     "end_time": "2024-07-15T15:28:30.416977Z",
     "start_time": "2024-07-15T15:28:29.122730Z"
    }
   },
   "id": "54577cc69830cd91"
  },
  {
   "cell_type": "code",
   "execution_count": 18,
   "outputs": [],
   "source": [
    "from sklearn.metrics import accuracy_score, precision_score, f1_score\n",
    "\n",
    "# Evaluation metrics\n",
    "ensemble_accuracy = accuracy_score(y_test, y_pred_ensemble)\n",
    "ensemble_precision = precision_score(y_test, y_pred_ensemble, average='weighted')\n",
    "ensemble_f1 = f1_score(y_test, y_pred_ensemble, average='weighted')\n",
    "ensemble_conf_matrix = confusion_matrix(y_test, y_pred_ensemble)"
   ],
   "metadata": {
    "collapsed": false,
    "ExecuteTime": {
     "end_time": "2024-07-15T15:28:30.476901Z",
     "start_time": "2024-07-15T15:28:30.448515Z"
    }
   },
   "id": "bd9f1d6550f09370"
  },
  {
   "cell_type": "code",
   "execution_count": 19,
   "outputs": [
    {
     "name": "stdout",
     "output_type": "stream",
     "text": [
      "Ensemble Model Evaluation:\n",
      "Accuracy: 0.9891483840528427\n",
      "Precision: 0.9831747372702091\n",
      "F1-score: 0.9857257289425906\n",
      "Confusion Matrix:\n",
      "[[33531    59]\n",
      " [  309    13]]\n"
     ]
    }
   ],
   "source": [
    "# Print evaluation metrics\n",
    "print(\"Ensemble Model Evaluation:\")\n",
    "print(\"Accuracy:\", ensemble_accuracy)\n",
    "print(\"Precision:\", ensemble_precision)\n",
    "print(\"F1-score:\", ensemble_f1)\n",
    "print(\"Confusion Matrix:\")\n",
    "print(ensemble_conf_matrix)"
   ],
   "metadata": {
    "collapsed": false,
    "ExecuteTime": {
     "end_time": "2024-07-15T15:28:30.499594Z",
     "start_time": "2024-07-15T15:28:30.477091Z"
    }
   },
   "id": "79fcaedc4a319256"
  },
  {
   "cell_type": "code",
   "execution_count": 20,
   "outputs": [
    {
     "ename": "AttributeError",
     "evalue": "predict_proba is not available when voting='hard'",
     "output_type": "error",
     "traceback": [
      "\u001B[0;31m---------------------------------------------------------------------------\u001B[0m",
      "\u001B[0;31mAttributeError\u001B[0m                            Traceback (most recent call last)",
      "Cell \u001B[0;32mIn[20], line 2\u001B[0m\n\u001B[1;32m      1\u001B[0m \u001B[38;5;66;03m# Define class names\u001B[39;00m\n\u001B[0;32m----> 2\u001B[0m y_probs \u001B[38;5;241m=\u001B[39m voting_clf\u001B[38;5;241m.\u001B[39mpredict_proba(X_test_selected)\n\u001B[1;32m      4\u001B[0m class_names \u001B[38;5;241m=\u001B[39m [\u001B[38;5;124m'\u001B[39m\u001B[38;5;124mbenign\u001B[39m\u001B[38;5;124m'\u001B[39m, \u001B[38;5;124m'\u001B[39m\u001B[38;5;124mweb attack brute force\u001B[39m\u001B[38;5;124m'\u001B[39m, \u001B[38;5;124m'\u001B[39m\u001B[38;5;124mweb attack sql injection\u001B[39m\u001B[38;5;124m'\u001B[39m, \u001B[38;5;124m'\u001B[39m\u001B[38;5;124mweb attack xss\u001B[39m\u001B[38;5;124m'\u001B[39m]\n\u001B[1;32m      5\u001B[0m \u001B[38;5;66;03m# Compute ROC curve for each class\u001B[39;00m\n",
      "File \u001B[0;32m/opt/anaconda3/lib/python3.11/site-packages/sklearn/utils/_available_if.py:32\u001B[0m, in \u001B[0;36m_AvailableIfDescriptor.__get__\u001B[0;34m(self, obj, owner)\u001B[0m\n\u001B[1;32m     26\u001B[0m attr_err \u001B[38;5;241m=\u001B[39m \u001B[38;5;167;01mAttributeError\u001B[39;00m(\n\u001B[1;32m     27\u001B[0m     \u001B[38;5;124mf\u001B[39m\u001B[38;5;124m\"\u001B[39m\u001B[38;5;124mThis \u001B[39m\u001B[38;5;132;01m{\u001B[39;00m\u001B[38;5;28mrepr\u001B[39m(owner\u001B[38;5;241m.\u001B[39m\u001B[38;5;18m__name__\u001B[39m)\u001B[38;5;132;01m}\u001B[39;00m\u001B[38;5;124m has no attribute \u001B[39m\u001B[38;5;132;01m{\u001B[39;00m\u001B[38;5;28mrepr\u001B[39m(\u001B[38;5;28mself\u001B[39m\u001B[38;5;241m.\u001B[39mattribute_name)\u001B[38;5;132;01m}\u001B[39;00m\u001B[38;5;124m\"\u001B[39m\n\u001B[1;32m     28\u001B[0m )\n\u001B[1;32m     29\u001B[0m \u001B[38;5;28;01mif\u001B[39;00m obj \u001B[38;5;129;01mis\u001B[39;00m \u001B[38;5;129;01mnot\u001B[39;00m \u001B[38;5;28;01mNone\u001B[39;00m:\n\u001B[1;32m     30\u001B[0m     \u001B[38;5;66;03m# delegate only on instances, not the classes.\u001B[39;00m\n\u001B[1;32m     31\u001B[0m     \u001B[38;5;66;03m# this is to allow access to the docstrings.\u001B[39;00m\n\u001B[0;32m---> 32\u001B[0m     \u001B[38;5;28;01mif\u001B[39;00m \u001B[38;5;129;01mnot\u001B[39;00m \u001B[38;5;28mself\u001B[39m\u001B[38;5;241m.\u001B[39mcheck(obj):\n\u001B[1;32m     33\u001B[0m         \u001B[38;5;28;01mraise\u001B[39;00m attr_err\n\u001B[1;32m     34\u001B[0m     out \u001B[38;5;241m=\u001B[39m MethodType(\u001B[38;5;28mself\u001B[39m\u001B[38;5;241m.\u001B[39mfn, obj)\n",
      "File \u001B[0;32m/opt/anaconda3/lib/python3.11/site-packages/sklearn/ensemble/_voting.py:383\u001B[0m, in \u001B[0;36mVotingClassifier._check_voting\u001B[0;34m(self)\u001B[0m\n\u001B[1;32m    381\u001B[0m \u001B[38;5;28;01mdef\u001B[39;00m \u001B[38;5;21m_check_voting\u001B[39m(\u001B[38;5;28mself\u001B[39m):\n\u001B[1;32m    382\u001B[0m     \u001B[38;5;28;01mif\u001B[39;00m \u001B[38;5;28mself\u001B[39m\u001B[38;5;241m.\u001B[39mvoting \u001B[38;5;241m==\u001B[39m \u001B[38;5;124m\"\u001B[39m\u001B[38;5;124mhard\u001B[39m\u001B[38;5;124m\"\u001B[39m:\n\u001B[0;32m--> 383\u001B[0m         \u001B[38;5;28;01mraise\u001B[39;00m \u001B[38;5;167;01mAttributeError\u001B[39;00m(\n\u001B[1;32m    384\u001B[0m             \u001B[38;5;124mf\u001B[39m\u001B[38;5;124m\"\u001B[39m\u001B[38;5;124mpredict_proba is not available when voting=\u001B[39m\u001B[38;5;132;01m{\u001B[39;00m\u001B[38;5;28mrepr\u001B[39m(\u001B[38;5;28mself\u001B[39m\u001B[38;5;241m.\u001B[39mvoting)\u001B[38;5;132;01m}\u001B[39;00m\u001B[38;5;124m\"\u001B[39m\n\u001B[1;32m    385\u001B[0m         )\n\u001B[1;32m    386\u001B[0m     \u001B[38;5;28;01mreturn\u001B[39;00m \u001B[38;5;28;01mTrue\u001B[39;00m\n",
      "\u001B[0;31mAttributeError\u001B[0m: predict_proba is not available when voting='hard'"
     ]
    }
   ],
   "source": [
    "# Define class names\n",
    "y_probs = voting_clf.predict_proba(X_test_selected)\n",
    "\n",
    "class_names = ['benign', 'web attack brute force', 'web attack sql injection', 'web attack xss']\n",
    "# Compute ROC curve for each class\n",
    "plt.figure(figsize=(10, 8))\n",
    "for i in range(len(voting_clf.classes_)):\n",
    "    fpr, tpr, _ = roc_curve(y_test == voting_clf.classes_[i], y_probs[:, i])\n",
    "    roc_auc = auc(fpr, tpr)\n",
    "    plt.plot(fpr, tpr, lw=2, label=class_names[i])\n",
    "\n",
    "plt.plot([0, 1], [0, 1], color='navy', lw=2, linestyle='--')\n",
    "plt.xlim([0.0, 1.0])\n",
    "plt.ylim([0.0, 1.05])\n",
    "plt.xlabel('False Positive Rate')\n",
    "plt.ylabel('True Positive Rate')\n",
    "plt.title('Receiver Operating Characteristic')\n",
    "plt.legend(loc=\"lower right\")\n",
    "plt.show()"
   ],
   "metadata": {
    "collapsed": false,
    "ExecuteTime": {
     "end_time": "2024-07-15T15:28:30.845762Z",
     "start_time": "2024-07-15T15:28:30.489879Z"
    }
   },
   "id": "55d2f7eb27dd2774"
  },
  {
   "cell_type": "code",
   "execution_count": 21,
   "outputs": [
    {
     "data": {
      "text/plain": "<Figure size 1000x800 with 2 Axes>",
      "image/png": "[encoded data removed]"
     },
     "metadata": {},
     "output_type": "display_data"
    }
   ],
   "source": [
    "from sklearn.metrics import confusion_matrix\n",
    "import seaborn as sns\n",
    "\n",
    "# Compute confusion matrix\n",
    "conf_matrix = confusion_matrix(y_test, y_pred_ensemble)\n",
    "\n",
    "# Plot confusion matrix\n",
    "plt.figure(figsize=(10, 8))\n",
    "sns.heatmap(conf_matrix, annot=True, fmt='d', cmap='Blues')\n",
    "plt.xlabel('Predicted')\n",
    "plt.ylabel('True')\n",
    "plt.title('Confusion Matrix')\n",
    "plt.show()\n"
   ],
   "metadata": {
    "collapsed": false,
    "ExecuteTime": {
     "end_time": "2024-07-15T15:28:52.816806Z",
     "start_time": "2024-07-15T15:28:52.668385Z"
    }
   },
   "id": "88868b0c429b4fb2"
  },
  {
   "cell_type": "code",
   "execution_count": 23,
   "outputs": [
    {
     "name": "stdout",
     "output_type": "stream",
     "text": [
      "[[33531    59]\n",
      " [  309    13]]\n"
     ]
    },
    {
     "data": {
      "text/plain": "<Figure size 800x600 with 2 Axes>",
      "image/png": "[encoded data removed]"
     },
     "metadata": {},
     "output_type": "display_data"
    }
   ],
   "source": [
    "labels = label_encoder.classes_\n",
    "print(conf_matrix)\n",
    "1# Plot confusion matrix\n",
    "plt.figure(figsize=(8, 6))\n",
    "sns.heatmap(conf_matrix, annot=True, fmt='d', cmap='Reds', annot_kws={\"size\": 14}, \n",
    "            xticklabels=labels, yticklabels=labels)\n",
    "\n",
    "# Manually annotate specific cells\n",
    "plt.text(1.5, 1.5, '13', fontsize=14, color='black', ha='center', va='center')\n",
    "plt.text(0.5, 1.5, '309', fontsize=14, color='black', ha='center', va='center')\n",
    "# plt.text(0.5, 2.5, '645', fontsize=14, color='black', ha='center', va='center')\n",
    "# plt.text(1.5, 2.5, '4', fontsize=14, color='black', ha='center', va='center')\n",
    "# plt.text(2.5, 1.5, '0', fontsize=14, color='black', ha='center', va='center')\n",
    "# plt.text(2.5, 2.5, '583', fontsize=14, color='black', ha='center', va='center')\n",
    "\n",
    "plt.title('Confusion Matrix BruteForce CEM-3')\n",
    "plt.xlabel('Predicted label')\n",
    "plt.ylabel('True label')\n",
    "plt.show()"
   ],
   "metadata": {
    "collapsed": false,
    "ExecuteTime": {
     "end_time": "2024-07-15T15:31:06.122265Z",
     "start_time": "2024-07-15T15:31:06.017988Z"
    }
   },
   "id": "81eed68cc75d0368"
  },
  {
   "cell_type": "code",
   "execution_count": 24,
   "outputs": [
    {
     "name": "stdout",
     "output_type": "stream",
     "text": [
      "False Positives: 59\n",
      "False Negatives: 309\n"
     ]
    }
   ],
   "source": [
    "# Extracting false positives and false negatives from confusion matrix\n",
    "FP = conf_matrix[0, 1]  # False positives: predicted DDoS, actual BENIGN\n",
    "FN = conf_matrix[1, 0]  # False negatives: predicted BENIGN, actual DDoS\n",
    "\n",
    "print(\"False Positives:\", FP)\n",
    "print(\"False Negatives:\", FN)"
   ],
   "metadata": {
    "collapsed": false,
    "ExecuteTime": {
     "end_time": "2024-07-15T18:42:05.096177Z",
     "start_time": "2024-07-15T18:42:05.085625Z"
    }
   },
   "id": "ad1521056064bec2"
  },
  {
   "cell_type": "code",
   "execution_count": 25,
   "outputs": [
    {
     "name": "stdout",
     "output_type": "stream",
     "text": [
      "Number of test values: 33912\n"
     ]
    }
   ],
   "source": [
    "# Number of test values\n",
    "num_test_values = len(y_test)\n",
    "print(\"Number of test values:\", num_test_values)"
   ],
   "metadata": {
    "collapsed": false,
    "ExecuteTime": {
     "end_time": "2024-07-15T18:42:07.012463Z",
     "start_time": "2024-07-15T18:42:06.998149Z"
    }
   },
   "id": "4cc3ee0447b8c926"
  },
  {
   "cell_type": "code",
   "execution_count": 26,
   "outputs": [
    {
     "name": "stdout",
     "output_type": "stream",
     "text": [
      "Percentage of False Positives and False Negatives: 1.09%\n"
     ]
    }
   ],
   "source": [
    "# Calculate percentage of false positives and false negatives\n",
    "percentage = ((FP + FN) / num_test_values) * 100\n",
    "\n",
    "print(\"Percentage of False Positives and False Negatives: {:.2f}%\".format(percentage))"
   ],
   "metadata": {
    "collapsed": false,
    "ExecuteTime": {
     "end_time": "2024-07-15T18:42:08.485165Z",
     "start_time": "2024-07-15T18:42:08.245162Z"
    }
   },
   "id": "b5e0a3c91f2b4582"
  },
  {
   "cell_type": "code",
   "execution_count": null,
   "outputs": [],
   "source": [
    "import joblib\n",
    "\n",
    "# Save the trained model to a file\n",
    "joblib.dump(voting_clf, 'web_attack_ensemble_1.pkl')\n",
    "\n",
    "# Load the model from file\n",
    "# loaded_model = joblib.load('svm_model.pkl')"
   ],
   "metadata": {
    "collapsed": false,
    "ExecuteTime": {
     "end_time": "2024-07-15T15:28:30.850273Z",
     "start_time": "2024-07-15T15:28:30.850067Z"
    }
   },
   "id": "85d8f9b032f92673"
  },
  {
   "cell_type": "code",
   "execution_count": null,
   "outputs": [],
   "source": [
    "# Compute evaluation metrics\n",
    "accuracy = accuracy_score(y_test, y_pred_ensemble)\n",
    "precision = precision_score(y_test, y_pred_ensemble)\n",
    "f1 = f1_score(y_test, y_pred_ensemble)\n",
    "\n",
    "# Create grouped bar chart\n",
    "metrics = ['Accuracy', 'Precision', 'F1-score']\n",
    "values = [accuracy, precision, f1]\n",
    "print('accuracy : ' + str(accuracy))\n",
    "print('precision : ' + str(precision))\n",
    "print('f1 : ' + str(f1))\n",
    "\n",
    "# Plotting\n",
    "plt.figure(figsize=(10, 6))\n",
    "plt.bar(metrics, values, color=['blue', 'green', 'red'])\n",
    "plt.ylabel('Score')\n",
    "plt.title('Evaluation Metrics')\n",
    "plt.ylim(0, 1)  # Setting y-axis limit to be between 0 and 1\n",
    "plt.text(-0.1, accuracy + 0.05, f'{accuracy:.2f}', fontsize=12, color='black')\n",
    "plt.text(0.9, precision + 0.05, f'{precision:.2f}', fontsize=12, color='black')\n",
    "plt.text(1.9, f1 + 0.05, f'{f1:.2f}', fontsize=12, color='black')\n",
    "plt.show()"
   ],
   "metadata": {
    "collapsed": false,
    "ExecuteTime": {
     "end_time": "2024-07-15T15:28:30.862259Z",
     "start_time": "2024-07-15T15:28:30.850749Z"
    }
   },
   "id": "75de4193c04d01a8"
  },
  {
   "cell_type": "code",
   "execution_count": null,
   "outputs": [],
   "source": [],
   "metadata": {
    "collapsed": false,
    "ExecuteTime": {
     "start_time": "2024-07-15T15:28:30.851811Z"
    }
   },
   "id": "84c5c523e4d18005"
  }
 ],
 "metadata": {
  "kernelspec": {
   "display_name": "Python 3",
   "language": "python",
   "name": "python3"
  },
  "language_info": {
   "codemirror_mode": {
    "name": "ipython",
    "version": 2
   },
   "file_extension": ".py",
   "mimetype": "text/x-python",
   "name": "python",
   "nbconvert_exporter": "python",
   "pygments_lexer": "ipython2",
   "version": "2.7.6"
  }
 },
 "nbformat": 4,
 "nbformat_minor": 5
}
