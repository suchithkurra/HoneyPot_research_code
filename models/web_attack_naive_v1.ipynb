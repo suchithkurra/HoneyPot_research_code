{
 "cells": [
  {
   "cell_type": "code",
   "execution_count": 1,
   "id": "initial_id",
   "metadata": {
    "collapsed": true,
    "ExecuteTime": {
     "end_time": "2024-04-21T08:58:46.000867Z",
     "start_time": "2024-04-21T08:58:44.898946Z"
    }
   },
   "outputs": [],
   "source": [
    "import pandas as pd\n",
    "from sklearn.model_selection import train_test_split\n",
    "from sklearn.preprocessing import StandardScaler\n",
    "from sklearn.naive_bayes import GaussianNB\n",
    "\n",
    "from sklearn.feature_selection import SelectKBest, chi2\n",
    "import numpy as np\n",
    "from sklearn.metrics import classification_report, confusion_matrix, roc_curve, auc\n",
    "import matplotlib.pyplot as plt"
   ]
  },
  {
   "cell_type": "code",
   "execution_count": 2,
   "outputs": [],
   "source": [
    "# Load the dataset\n",
    "data = pd.read_csv('/Users/suchithkurra/Desktop/Honey_Pot Research/data/Web_attack.csv')"
   ],
   "metadata": {
    "collapsed": false,
    "ExecuteTime": {
     "end_time": "2024-04-21T08:58:47.343431Z",
     "start_time": "2024-04-21T08:58:46.791507Z"
    }
   },
   "id": "bd0a731fea4323e2"
  },
  {
   "cell_type": "code",
   "execution_count": 3,
   "outputs": [],
   "source": [
    "# Data preprocessing\n",
    "# Drop any rows with missing values\n",
    "data.dropna(inplace=True)"
   ],
   "metadata": {
    "collapsed": false,
    "ExecuteTime": {
     "end_time": "2024-04-21T08:58:48.246021Z",
     "start_time": "2024-04-21T08:58:48.204211Z"
    }
   },
   "id": "8e7c9b6f2f96b5f0"
  },
  {
   "cell_type": "code",
   "execution_count": 4,
   "outputs": [],
   "source": [
    "# Replace infinite or very large values with NaN\n",
    "data.replace([np.inf, -np.inf], np.nan, inplace=True)"
   ],
   "metadata": {
    "collapsed": false,
    "ExecuteTime": {
     "end_time": "2024-04-21T08:58:49.123100Z",
     "start_time": "2024-04-21T08:58:49.093945Z"
    }
   },
   "id": "51d1577119e5745c"
  },
  {
   "cell_type": "code",
   "execution_count": 5,
   "outputs": [],
   "source": [
    "# Drop rows containing NaN values\n",
    "data.dropna(inplace=True)"
   ],
   "metadata": {
    "collapsed": false,
    "ExecuteTime": {
     "end_time": "2024-04-21T08:58:50.074900Z",
     "start_time": "2024-04-21T08:58:50.019565Z"
    }
   },
   "id": "34222ad71707492b"
  },
  {
   "cell_type": "code",
   "execution_count": 6,
   "outputs": [],
   "source": [
    "from sklearn.preprocessing import LabelEncoder\n",
    "\n",
    "# Encode target variable\n",
    "label_encoder = LabelEncoder()\n",
    "data['Label'] = label_encoder.fit_transform(data['Label'])"
   ],
   "metadata": {
    "collapsed": false,
    "ExecuteTime": {
     "end_time": "2024-04-21T08:58:50.959566Z",
     "start_time": "2024-04-21T08:58:50.954303Z"
    }
   },
   "id": "cefdb2500f487d21"
  },
  {
   "cell_type": "code",
   "execution_count": 7,
   "outputs": [],
   "source": [
    "# Split features and target variable\n",
    "X = data.drop('Label', axis=1)\n",
    "y = data['Label']"
   ],
   "metadata": {
    "collapsed": false,
    "ExecuteTime": {
     "end_time": "2024-04-21T08:58:51.838851Z",
     "start_time": "2024-04-21T08:58:51.791840Z"
    }
   },
   "id": "ac86ef24c262afe5"
  },
  {
   "cell_type": "code",
   "execution_count": 8,
   "outputs": [],
   "source": [
    "X_train, X_test, y_train, y_test = train_test_split(X, y, test_size=0.2, random_state=42)"
   ],
   "metadata": {
    "collapsed": false,
    "ExecuteTime": {
     "end_time": "2024-04-21T08:58:52.343710Z",
     "start_time": "2024-04-21T08:58:52.303173Z"
    }
   },
   "id": "9434c0f91dcf8bbf"
  },
  {
   "cell_type": "code",
   "execution_count": 9,
   "outputs": [],
   "source": [
    "# Feature scaling\n",
    "scaler = StandardScaler()\n",
    "X_train_scaled = scaler.fit_transform(X_train)\n",
    "X_test_scaled = scaler.transform(X_test)"
   ],
   "metadata": {
    "collapsed": false,
    "ExecuteTime": {
     "end_time": "2024-04-21T08:58:52.811848Z",
     "start_time": "2024-04-21T08:58:52.719748Z"
    }
   },
   "id": "d17c6200eff25e90"
  },
  {
   "cell_type": "code",
   "execution_count": 10,
   "outputs": [
    {
     "ename": "ValueError",
     "evalue": "Input X must be non-negative.",
     "output_type": "error",
     "traceback": [
      "\u001B[0;31m---------------------------------------------------------------------------\u001B[0m",
      "\u001B[0;31mValueError\u001B[0m                                Traceback (most recent call last)",
      "Cell \u001B[0;32mIn[10], line 4\u001B[0m\n\u001B[1;32m      2\u001B[0m k \u001B[38;5;241m=\u001B[39m \u001B[38;5;241m20\u001B[39m  \u001B[38;5;66;03m# Number of top features to select\u001B[39;00m\n\u001B[1;32m      3\u001B[0m selector \u001B[38;5;241m=\u001B[39m SelectKBest(score_func\u001B[38;5;241m=\u001B[39mchi2, k\u001B[38;5;241m=\u001B[39mk)\n\u001B[0;32m----> 4\u001B[0m X_train_selected \u001B[38;5;241m=\u001B[39m selector\u001B[38;5;241m.\u001B[39mfit_transform(X_train_scaled, y_train)\n\u001B[1;32m      5\u001B[0m X_test_selected \u001B[38;5;241m=\u001B[39m selector\u001B[38;5;241m.\u001B[39mtransform(X_test_scaled)\n",
      "File \u001B[0;32m/opt/anaconda3/lib/python3.11/site-packages/sklearn/utils/_set_output.py:140\u001B[0m, in \u001B[0;36m_wrap_method_output.<locals>.wrapped\u001B[0;34m(self, X, *args, **kwargs)\u001B[0m\n\u001B[1;32m    138\u001B[0m \u001B[38;5;129m@wraps\u001B[39m(f)\n\u001B[1;32m    139\u001B[0m \u001B[38;5;28;01mdef\u001B[39;00m \u001B[38;5;21mwrapped\u001B[39m(\u001B[38;5;28mself\u001B[39m, X, \u001B[38;5;241m*\u001B[39margs, \u001B[38;5;241m*\u001B[39m\u001B[38;5;241m*\u001B[39mkwargs):\n\u001B[0;32m--> 140\u001B[0m     data_to_wrap \u001B[38;5;241m=\u001B[39m f(\u001B[38;5;28mself\u001B[39m, X, \u001B[38;5;241m*\u001B[39margs, \u001B[38;5;241m*\u001B[39m\u001B[38;5;241m*\u001B[39mkwargs)\n\u001B[1;32m    141\u001B[0m     \u001B[38;5;28;01mif\u001B[39;00m \u001B[38;5;28misinstance\u001B[39m(data_to_wrap, \u001B[38;5;28mtuple\u001B[39m):\n\u001B[1;32m    142\u001B[0m         \u001B[38;5;66;03m# only wrap the first output for cross decomposition\u001B[39;00m\n\u001B[1;32m    143\u001B[0m         \u001B[38;5;28;01mreturn\u001B[39;00m (\n\u001B[1;32m    144\u001B[0m             _wrap_data_with_container(method, data_to_wrap[\u001B[38;5;241m0\u001B[39m], X, \u001B[38;5;28mself\u001B[39m),\n\u001B[1;32m    145\u001B[0m             \u001B[38;5;241m*\u001B[39mdata_to_wrap[\u001B[38;5;241m1\u001B[39m:],\n\u001B[1;32m    146\u001B[0m         )\n",
      "File \u001B[0;32m/opt/anaconda3/lib/python3.11/site-packages/sklearn/base.py:881\u001B[0m, in \u001B[0;36mTransformerMixin.fit_transform\u001B[0;34m(self, X, y, **fit_params)\u001B[0m\n\u001B[1;32m    878\u001B[0m     \u001B[38;5;28;01mreturn\u001B[39;00m \u001B[38;5;28mself\u001B[39m\u001B[38;5;241m.\u001B[39mfit(X, \u001B[38;5;241m*\u001B[39m\u001B[38;5;241m*\u001B[39mfit_params)\u001B[38;5;241m.\u001B[39mtransform(X)\n\u001B[1;32m    879\u001B[0m \u001B[38;5;28;01melse\u001B[39;00m:\n\u001B[1;32m    880\u001B[0m     \u001B[38;5;66;03m# fit method of arity 2 (supervised transformation)\u001B[39;00m\n\u001B[0;32m--> 881\u001B[0m     \u001B[38;5;28;01mreturn\u001B[39;00m \u001B[38;5;28mself\u001B[39m\u001B[38;5;241m.\u001B[39mfit(X, y, \u001B[38;5;241m*\u001B[39m\u001B[38;5;241m*\u001B[39mfit_params)\u001B[38;5;241m.\u001B[39mtransform(X)\n",
      "File \u001B[0;32m/opt/anaconda3/lib/python3.11/site-packages/sklearn/feature_selection/_univariate_selection.py:472\u001B[0m, in \u001B[0;36m_BaseFilter.fit\u001B[0;34m(self, X, y)\u001B[0m\n\u001B[1;32m    467\u001B[0m X, y \u001B[38;5;241m=\u001B[39m \u001B[38;5;28mself\u001B[39m\u001B[38;5;241m.\u001B[39m_validate_data(\n\u001B[1;32m    468\u001B[0m     X, y, accept_sparse\u001B[38;5;241m=\u001B[39m[\u001B[38;5;124m\"\u001B[39m\u001B[38;5;124mcsr\u001B[39m\u001B[38;5;124m\"\u001B[39m, \u001B[38;5;124m\"\u001B[39m\u001B[38;5;124mcsc\u001B[39m\u001B[38;5;124m\"\u001B[39m], multi_output\u001B[38;5;241m=\u001B[39m\u001B[38;5;28;01mTrue\u001B[39;00m\n\u001B[1;32m    469\u001B[0m )\n\u001B[1;32m    471\u001B[0m \u001B[38;5;28mself\u001B[39m\u001B[38;5;241m.\u001B[39m_check_params(X, y)\n\u001B[0;32m--> 472\u001B[0m score_func_ret \u001B[38;5;241m=\u001B[39m \u001B[38;5;28mself\u001B[39m\u001B[38;5;241m.\u001B[39mscore_func(X, y)\n\u001B[1;32m    473\u001B[0m \u001B[38;5;28;01mif\u001B[39;00m \u001B[38;5;28misinstance\u001B[39m(score_func_ret, (\u001B[38;5;28mlist\u001B[39m, \u001B[38;5;28mtuple\u001B[39m)):\n\u001B[1;32m    474\u001B[0m     \u001B[38;5;28mself\u001B[39m\u001B[38;5;241m.\u001B[39mscores_, \u001B[38;5;28mself\u001B[39m\u001B[38;5;241m.\u001B[39mpvalues_ \u001B[38;5;241m=\u001B[39m score_func_ret\n",
      "File \u001B[0;32m/opt/anaconda3/lib/python3.11/site-packages/sklearn/feature_selection/_univariate_selection.py:217\u001B[0m, in \u001B[0;36mchi2\u001B[0;34m(X, y)\u001B[0m\n\u001B[1;32m    215\u001B[0m X \u001B[38;5;241m=\u001B[39m check_array(X, accept_sparse\u001B[38;5;241m=\u001B[39m\u001B[38;5;124m\"\u001B[39m\u001B[38;5;124mcsr\u001B[39m\u001B[38;5;124m\"\u001B[39m, dtype\u001B[38;5;241m=\u001B[39m(np\u001B[38;5;241m.\u001B[39mfloat64, np\u001B[38;5;241m.\u001B[39mfloat32))\n\u001B[1;32m    216\u001B[0m \u001B[38;5;28;01mif\u001B[39;00m np\u001B[38;5;241m.\u001B[39many((X\u001B[38;5;241m.\u001B[39mdata \u001B[38;5;28;01mif\u001B[39;00m issparse(X) \u001B[38;5;28;01melse\u001B[39;00m X) \u001B[38;5;241m<\u001B[39m \u001B[38;5;241m0\u001B[39m):\n\u001B[0;32m--> 217\u001B[0m     \u001B[38;5;28;01mraise\u001B[39;00m \u001B[38;5;167;01mValueError\u001B[39;00m(\u001B[38;5;124m\"\u001B[39m\u001B[38;5;124mInput X must be non-negative.\u001B[39m\u001B[38;5;124m\"\u001B[39m)\n\u001B[1;32m    219\u001B[0m \u001B[38;5;66;03m# Use a sparse representation for Y by default to reduce memory usage when\u001B[39;00m\n\u001B[1;32m    220\u001B[0m \u001B[38;5;66;03m# y has many unique classes.\u001B[39;00m\n\u001B[1;32m    221\u001B[0m Y \u001B[38;5;241m=\u001B[39m LabelBinarizer(sparse_output\u001B[38;5;241m=\u001B[39m\u001B[38;5;28;01mTrue\u001B[39;00m)\u001B[38;5;241m.\u001B[39mfit_transform(y)\n",
      "\u001B[0;31mValueError\u001B[0m: Input X must be non-negative."
     ]
    }
   ],
   "source": [
    "# SelectKBest with ANOVA F-value\n",
    "k = 20  # Number of top features to select\n",
    "selector = SelectKBest(score_func=chi2, k=k)\n",
    "X_train_selected = selector.fit_transform(X_train_scaled, y_train)\n",
    "X_test_selected = selector.transform(X_test_scaled)"
   ],
   "metadata": {
    "collapsed": false,
    "ExecuteTime": {
     "end_time": "2024-04-21T08:58:53.512291Z",
     "start_time": "2024-04-21T08:58:53.159422Z"
    }
   },
   "id": "8729530369150d1"
  },
  {
   "cell_type": "code",
   "execution_count": 11,
   "outputs": [
    {
     "ename": "AttributeError",
     "evalue": "'SelectKBest' object has no attribute 'scores_'",
     "output_type": "error",
     "traceback": [
      "\u001B[0;31m---------------------------------------------------------------------------\u001B[0m",
      "\u001B[0;31mAttributeError\u001B[0m                            Traceback (most recent call last)",
      "Cell \u001B[0;32mIn[11], line 1\u001B[0m\n\u001B[0;32m----> 1\u001B[0m selected_features_indices \u001B[38;5;241m=\u001B[39m selector\u001B[38;5;241m.\u001B[39mget_support(indices\u001B[38;5;241m=\u001B[39m\u001B[38;5;28;01mTrue\u001B[39;00m)\n",
      "File \u001B[0;32m/opt/anaconda3/lib/python3.11/site-packages/sklearn/feature_selection/_base.py:53\u001B[0m, in \u001B[0;36mSelectorMixin.get_support\u001B[0;34m(self, indices)\u001B[0m\n\u001B[1;32m     33\u001B[0m \u001B[38;5;28;01mdef\u001B[39;00m \u001B[38;5;21mget_support\u001B[39m(\u001B[38;5;28mself\u001B[39m, indices\u001B[38;5;241m=\u001B[39m\u001B[38;5;28;01mFalse\u001B[39;00m):\n\u001B[1;32m     34\u001B[0m \u001B[38;5;250m    \u001B[39m\u001B[38;5;124;03m\"\"\"\u001B[39;00m\n\u001B[1;32m     35\u001B[0m \u001B[38;5;124;03m    Get a mask, or integer index, of the features selected.\u001B[39;00m\n\u001B[1;32m     36\u001B[0m \n\u001B[0;32m   (...)\u001B[0m\n\u001B[1;32m     51\u001B[0m \u001B[38;5;124;03m        values are indices into the input feature vector.\u001B[39;00m\n\u001B[1;32m     52\u001B[0m \u001B[38;5;124;03m    \"\"\"\u001B[39;00m\n\u001B[0;32m---> 53\u001B[0m     mask \u001B[38;5;241m=\u001B[39m \u001B[38;5;28mself\u001B[39m\u001B[38;5;241m.\u001B[39m_get_support_mask()\n\u001B[1;32m     54\u001B[0m     \u001B[38;5;28;01mreturn\u001B[39;00m mask \u001B[38;5;28;01mif\u001B[39;00m \u001B[38;5;129;01mnot\u001B[39;00m indices \u001B[38;5;28;01melse\u001B[39;00m np\u001B[38;5;241m.\u001B[39mwhere(mask)[\u001B[38;5;241m0\u001B[39m]\n",
      "File \u001B[0;32m/opt/anaconda3/lib/python3.11/site-packages/sklearn/feature_selection/_univariate_selection.py:685\u001B[0m, in \u001B[0;36mSelectKBest._get_support_mask\u001B[0;34m(self)\u001B[0m\n\u001B[1;32m    683\u001B[0m     \u001B[38;5;28;01mreturn\u001B[39;00m np\u001B[38;5;241m.\u001B[39mzeros(\u001B[38;5;28mself\u001B[39m\u001B[38;5;241m.\u001B[39mscores_\u001B[38;5;241m.\u001B[39mshape, dtype\u001B[38;5;241m=\u001B[39m\u001B[38;5;28mbool\u001B[39m)\n\u001B[1;32m    684\u001B[0m \u001B[38;5;28;01melse\u001B[39;00m:\n\u001B[0;32m--> 685\u001B[0m     scores \u001B[38;5;241m=\u001B[39m _clean_nans(\u001B[38;5;28mself\u001B[39m\u001B[38;5;241m.\u001B[39mscores_)\n\u001B[1;32m    686\u001B[0m     mask \u001B[38;5;241m=\u001B[39m np\u001B[38;5;241m.\u001B[39mzeros(scores\u001B[38;5;241m.\u001B[39mshape, dtype\u001B[38;5;241m=\u001B[39m\u001B[38;5;28mbool\u001B[39m)\n\u001B[1;32m    688\u001B[0m     \u001B[38;5;66;03m# Request a stable sort. Mergesort takes more memory (~40MB per\u001B[39;00m\n\u001B[1;32m    689\u001B[0m     \u001B[38;5;66;03m# megafeature on x86-64).\u001B[39;00m\n",
      "\u001B[0;31mAttributeError\u001B[0m: 'SelectKBest' object has no attribute 'scores_'"
     ]
    }
   ],
   "source": [
    "selected_features_indices = selector.get_support(indices=True)"
   ],
   "metadata": {
    "collapsed": false,
    "ExecuteTime": {
     "end_time": "2024-04-21T08:58:53.890482Z",
     "start_time": "2024-04-21T08:58:53.860290Z"
    }
   },
   "id": "4f94b3106e057003"
  },
  {
   "cell_type": "code",
   "execution_count": 12,
   "outputs": [],
   "source": [
    "selected_feature_names = X.columns[selected_features_indices]"
   ],
   "metadata": {
    "collapsed": false,
    "ExecuteTime": {
     "end_time": "2024-04-21T08:57:04.685126Z",
     "start_time": "2024-04-21T08:57:04.682249Z"
    }
   },
   "id": "322b2af6cd91f267"
  },
  {
   "cell_type": "code",
   "execution_count": 13,
   "outputs": [
    {
     "name": "stdout",
     "output_type": "stream",
     "text": [
      "Selected features:\n",
      "Index(['Destination Port', 'Fwd Packet Length Min', 'Fwd Packet Length Mean',\n",
      "       'Bwd Packet Length Max', 'Bwd Packet Length Min',\n",
      "       'Bwd Packet Length Mean', 'Fwd IAT Std', 'Min Packet Length',\n",
      "       'Max Packet Length', 'Packet Length Mean', 'Packet Length Std',\n",
      "       'PSH Flag Count', 'ACK Flag Count', 'Down/Up Ratio',\n",
      "       'Average Packet Size', ' Avg Fwd Segment Size', 'Avg Bwd Segment Size',\n",
      "       'Init_Win_bytes_forward', 'Init_Win_bytes_backward',\n",
      "       'min_seg_size_forward'],\n",
      "      dtype='object')\n"
     ]
    }
   ],
   "source": [
    "# Print the selected feature names\n",
    "print(\"Selected features:\")\n",
    "print(selected_feature_names)"
   ],
   "metadata": {
    "collapsed": false,
    "ExecuteTime": {
     "end_time": "2024-04-21T08:57:05.115759Z",
     "start_time": "2024-04-21T08:57:05.098774Z"
    }
   },
   "id": "ade9cd970f4bcd54"
  },
  {
   "cell_type": "code",
   "execution_count": 14,
   "outputs": [
    {
     "ename": "ValueError",
     "evalue": "Negative values in data passed to MultinomialNB (input X)",
     "output_type": "error",
     "traceback": [
      "\u001B[0;31m---------------------------------------------------------------------------\u001B[0m",
      "\u001B[0;31mValueError\u001B[0m                                Traceback (most recent call last)",
      "Cell \u001B[0;32mIn[14], line 5\u001B[0m\n\u001B[1;32m      3\u001B[0m \u001B[38;5;66;03m# Train Naive Bayes model\u001B[39;00m\n\u001B[1;32m      4\u001B[0m nb_model \u001B[38;5;241m=\u001B[39m  MultinomialNB()\n\u001B[0;32m----> 5\u001B[0m nb_model\u001B[38;5;241m.\u001B[39mfit(X_train_selected, y_train)\n",
      "File \u001B[0;32m/opt/anaconda3/lib/python3.11/site-packages/sklearn/naive_bayes.py:776\u001B[0m, in \u001B[0;36m_BaseDiscreteNB.fit\u001B[0;34m(self, X, y, sample_weight)\u001B[0m\n\u001B[1;32m    774\u001B[0m n_classes \u001B[38;5;241m=\u001B[39m Y\u001B[38;5;241m.\u001B[39mshape[\u001B[38;5;241m1\u001B[39m]\n\u001B[1;32m    775\u001B[0m \u001B[38;5;28mself\u001B[39m\u001B[38;5;241m.\u001B[39m_init_counters(n_classes, n_features)\n\u001B[0;32m--> 776\u001B[0m \u001B[38;5;28mself\u001B[39m\u001B[38;5;241m.\u001B[39m_count(X, Y)\n\u001B[1;32m    777\u001B[0m alpha \u001B[38;5;241m=\u001B[39m \u001B[38;5;28mself\u001B[39m\u001B[38;5;241m.\u001B[39m_check_alpha()\n\u001B[1;32m    778\u001B[0m \u001B[38;5;28mself\u001B[39m\u001B[38;5;241m.\u001B[39m_update_feature_log_prob(alpha)\n",
      "File \u001B[0;32m/opt/anaconda3/lib/python3.11/site-packages/sklearn/naive_bayes.py:898\u001B[0m, in \u001B[0;36mMultinomialNB._count\u001B[0;34m(self, X, Y)\u001B[0m\n\u001B[1;32m    896\u001B[0m \u001B[38;5;28;01mdef\u001B[39;00m \u001B[38;5;21m_count\u001B[39m(\u001B[38;5;28mself\u001B[39m, X, Y):\n\u001B[1;32m    897\u001B[0m \u001B[38;5;250m    \u001B[39m\u001B[38;5;124;03m\"\"\"Count and smooth feature occurrences.\"\"\"\u001B[39;00m\n\u001B[0;32m--> 898\u001B[0m     check_non_negative(X, \u001B[38;5;124m\"\u001B[39m\u001B[38;5;124mMultinomialNB (input X)\u001B[39m\u001B[38;5;124m\"\u001B[39m)\n\u001B[1;32m    899\u001B[0m     \u001B[38;5;28mself\u001B[39m\u001B[38;5;241m.\u001B[39mfeature_count_ \u001B[38;5;241m+\u001B[39m\u001B[38;5;241m=\u001B[39m safe_sparse_dot(Y\u001B[38;5;241m.\u001B[39mT, X)\n\u001B[1;32m    900\u001B[0m     \u001B[38;5;28mself\u001B[39m\u001B[38;5;241m.\u001B[39mclass_count_ \u001B[38;5;241m+\u001B[39m\u001B[38;5;241m=\u001B[39m Y\u001B[38;5;241m.\u001B[39msum(axis\u001B[38;5;241m=\u001B[39m\u001B[38;5;241m0\u001B[39m)\n",
      "File \u001B[0;32m/opt/anaconda3/lib/python3.11/site-packages/sklearn/utils/validation.py:1418\u001B[0m, in \u001B[0;36mcheck_non_negative\u001B[0;34m(X, whom)\u001B[0m\n\u001B[1;32m   1415\u001B[0m     X_min \u001B[38;5;241m=\u001B[39m xp\u001B[38;5;241m.\u001B[39mmin(X)\n\u001B[1;32m   1417\u001B[0m \u001B[38;5;28;01mif\u001B[39;00m X_min \u001B[38;5;241m<\u001B[39m \u001B[38;5;241m0\u001B[39m:\n\u001B[0;32m-> 1418\u001B[0m     \u001B[38;5;28;01mraise\u001B[39;00m \u001B[38;5;167;01mValueError\u001B[39;00m(\u001B[38;5;124m\"\u001B[39m\u001B[38;5;124mNegative values in data passed to \u001B[39m\u001B[38;5;132;01m%s\u001B[39;00m\u001B[38;5;124m\"\u001B[39m \u001B[38;5;241m%\u001B[39m whom)\n",
      "\u001B[0;31mValueError\u001B[0m: Negative values in data passed to MultinomialNB (input X)"
     ]
    }
   ],
   "source": [
    "from sklearn.naive_bayes import MultinomialNB\n",
    "\n",
    "# Train Naive Bayes model\n",
    "nb_model =  MultinomialNB()\n",
    "nb_model.fit(X_train_selected, y_train)"
   ],
   "metadata": {
    "collapsed": false,
    "ExecuteTime": {
     "end_time": "2024-04-21T08:57:06.313025Z",
     "start_time": "2024-04-21T08:57:05.828651Z"
    }
   },
   "id": "99be1d9bcffd1b2d"
  },
  {
   "cell_type": "code",
   "execution_count": 15,
   "outputs": [],
   "source": [
    "# Predictions\n",
    "y_pred = nb_model.predict(X_test_selected)"
   ],
   "metadata": {
    "collapsed": false,
    "ExecuteTime": {
     "end_time": "2024-04-21T08:27:23.085553Z",
     "start_time": "2024-04-21T08:27:23.066045Z"
    }
   },
   "id": "ee9fbedc61460a5a"
  },
  {
   "cell_type": "code",
   "execution_count": 16,
   "outputs": [
    {
     "name": "stdout",
     "output_type": "stream",
     "text": [
      "Classification Report:\n",
      "              precision    recall  f1-score   support\n",
      "\n",
      "           0       1.00      0.97      0.98     33603\n",
      "           1       0.30      0.98      0.45       444\n",
      "\n",
      "    accuracy                           0.97     34047\n",
      "   macro avg       0.65      0.98      0.72     34047\n",
      "weighted avg       0.99      0.97      0.98     34047\n",
      "\n",
      "Confusion Matrix:\n",
      "[[32563  1040]\n",
      " [    8   436]]\n"
     ]
    }
   ],
   "source": [
    "# Evaluation metrics\n",
    "print(\"Classification Report:\")\n",
    "print(classification_report(y_test, y_pred))\n",
    "print(\"Confusion Matrix:\")\n",
    "print(confusion_matrix(y_test, y_pred))"
   ],
   "metadata": {
    "collapsed": false,
    "ExecuteTime": {
     "end_time": "2024-04-21T08:27:24.534175Z",
     "start_time": "2024-04-21T08:27:24.475506Z"
    }
   },
   "id": "31f5485047fd35c4"
  },
  {
   "cell_type": "code",
   "execution_count": 17,
   "outputs": [
    {
     "data": {
      "text/plain": "<Figure size 640x480 with 1 Axes>",
      "image/png": "[encoded data removed]"
     },
     "metadata": {},
     "output_type": "display_data"
    }
   ],
   "source": [
    "# Compute ROC curve\n",
    "y_score = nb_model.predict_proba(X_test_selected)\n",
    "fpr, tpr, _ = roc_curve(y_test, y_score[:, 1])\n",
    "roc_auc = auc(fpr, tpr)\n",
    "\n",
    "# Plot ROC curve\n",
    "plt.figure()\n",
    "plt.plot(fpr, tpr, color='darkorange', lw=2, label='ROC curve (area = %0.2f)' % roc_auc)\n",
    "plt.plot([0, 1], [0, 1], color='navy', lw=2, linestyle='--')\n",
    "plt.xlim([0.0, 1.0])\n",
    "plt.ylim([0.0, 1.05])\n",
    "plt.xlabel('False Positive Rate')\n",
    "plt.ylabel('True Positive Rate')\n",
    "plt.title('Receiver Operating Characteristic')\n",
    "plt.legend(loc=\"lower right\")\n",
    "plt.show()"
   ],
   "metadata": {
    "collapsed": false,
    "ExecuteTime": {
     "end_time": "2024-04-21T08:27:25.610266Z",
     "start_time": "2024-04-21T08:27:25.444523Z"
    }
   },
   "id": "c1bf7442ab655dba"
  },
  {
   "cell_type": "code",
   "execution_count": 18,
   "outputs": [
    {
     "name": "stdout",
     "output_type": "stream",
     "text": [
      "accuracy: 0.9692190207654126\n",
      "precision: 0.2953929539295393\n",
      "f1score: 0.45416666666666666\n"
     ]
    },
    {
     "data": {
      "text/plain": "<Figure size 1000x600 with 1 Axes>",
      "image/png": "[encoded data removed]"
     },
     "metadata": {},
     "output_type": "display_data"
    }
   ],
   "source": [
    "from sklearn.metrics import accuracy_score, precision_score, f1_score\n",
    "\n",
    "# Compute evaluation metrics\n",
    "accuracy = accuracy_score(y_test, y_pred)\n",
    "precision = precision_score(y_test, y_pred)\n",
    "f1 = f1_score(y_test, y_pred)\n",
    "\n",
    "# Create grouped bar chart\n",
    "metrics = ['Accuracy', 'Precision', 'F1-score']\n",
    "values = [accuracy, precision, f1]\n",
    "\n",
    "print('accuracy: ' + str(accuracy))\n",
    "print('precision: ' + str(precision))\n",
    "print('f1score: ' + str(f1))\n",
    "\n",
    "# Plotting\n",
    "plt.figure(figsize=(10, 6))\n",
    "plt.bar(metrics, values, color=['blue', 'green', 'red'])\n",
    "plt.ylabel('Score')\n",
    "plt.title('Evaluation Metrics')\n",
    "plt.ylim(0, 1)  # Setting y-axis limit to be between 0 and 1\n",
    "plt.text(-0.1, accuracy + 0.05, f'{accuracy:.2f}', fontsize=12, color='black')\n",
    "plt.text(0.9, precision + 0.05, f'{precision:.2f}', fontsize=12, color='black')\n",
    "plt.text(1.9, f1 + 0.05, f'{f1:.2f}', fontsize=12, color='black')\n",
    "plt.show()\n"
   ],
   "metadata": {
    "collapsed": false,
    "ExecuteTime": {
     "end_time": "2024-04-21T08:27:27.797676Z",
     "start_time": "2024-04-21T08:27:27.716318Z"
    }
   },
   "id": "e4b7ee7563b48e4a"
  },
  {
   "cell_type": "code",
   "execution_count": 19,
   "outputs": [
    {
     "name": "stdout",
     "output_type": "stream",
     "text": [
      "Confusion Matrix:\n",
      "[[32563  1040]\n",
      " [    8   436]]\n"
     ]
    },
    {
     "data": {
      "text/plain": "<Figure size 640x480 with 2 Axes>",
      "image/png": "[encoded data removed]"
     },
     "metadata": {},
     "output_type": "display_data"
    }
   ],
   "source": [
    "conf_matrix = confusion_matrix(y_test, y_pred)\n",
    "print(\"Confusion Matrix:\")\n",
    "print(conf_matrix)\n",
    "\n",
    "# Plot confusion matrix\n",
    "plt.imshow(conf_matrix, cmap=plt.cm.Blues)\n",
    "plt.title('Confusion Matrix')\n",
    "plt.colorbar()\n",
    "plt.xlabel('Predicted label')\n",
    "plt.ylabel('True label')\n",
    "plt.xticks([0, 1], ['BENIGN', 'DDoS'])\n",
    "plt.yticks([0, 1], ['BENIGN', 'DDoS'])\n",
    "plt.show()"
   ],
   "metadata": {
    "collapsed": false,
    "ExecuteTime": {
     "end_time": "2024-04-21T08:27:28.865851Z",
     "start_time": "2024-04-21T08:27:28.788788Z"
    }
   },
   "id": "a399769470ad3400"
  },
  {
   "cell_type": "code",
   "execution_count": 20,
   "outputs": [
    {
     "name": "stdout",
     "output_type": "stream",
     "text": [
      "False Positives: 1040\n",
      "False Negatives: 8\n"
     ]
    }
   ],
   "source": [
    "# Extracting false positives and false negatives from confusion matrix\n",
    "FP = conf_matrix[0, 1]  # False positives: predicted DDoS, actual BENIGN\n",
    "FN = conf_matrix[1, 0]  # False negatives: predicted BENIGN, actual DDoS\n",
    "\n",
    "print(\"False Positives:\", FP)\n",
    "print(\"False Negatives:\", FN)"
   ],
   "metadata": {
    "collapsed": false,
    "ExecuteTime": {
     "end_time": "2024-04-21T08:27:30.556260Z",
     "start_time": "2024-04-21T08:27:30.540302Z"
    }
   },
   "id": "d5fb8c08d8530079"
  },
  {
   "cell_type": "code",
   "execution_count": 21,
   "outputs": [
    {
     "name": "stdout",
     "output_type": "stream",
     "text": [
      "Number of test values: 34047\n"
     ]
    }
   ],
   "source": [
    "# Number of test values\n",
    "num_test_values = len(y_test)\n",
    "print(\"Number of test values:\", num_test_values)"
   ],
   "metadata": {
    "collapsed": false,
    "ExecuteTime": {
     "end_time": "2024-04-21T08:27:31.316469Z",
     "start_time": "2024-04-21T08:27:31.304611Z"
    }
   },
   "id": "ef55c89c55e2fa37"
  },
  {
   "cell_type": "code",
   "execution_count": 22,
   "outputs": [
    {
     "name": "stdout",
     "output_type": "stream",
     "text": [
      "Percentage of False Positives and False Negatives: 3.08%\n"
     ]
    }
   ],
   "source": [
    "# Calculate percentage of false positives and false negatives\n",
    "percentage = ((FP + FN) / num_test_values) * 100\n",
    "\n",
    "print(\"Percentage of False Positives and False Negatives: {:.2f}%\".format(percentage))\n"
   ],
   "metadata": {
    "collapsed": false,
    "ExecuteTime": {
     "end_time": "2024-04-21T08:27:32.046084Z",
     "start_time": "2024-04-21T08:27:32.033049Z"
    }
   },
   "id": "94984027f05a622b"
  },
  {
   "cell_type": "code",
   "execution_count": 23,
   "outputs": [
    {
     "data": {
      "text/plain": "['web_attack_nb_model.pkl']"
     },
     "execution_count": 23,
     "metadata": {},
     "output_type": "execute_result"
    }
   ],
   "source": [
    "import joblib\n",
    "\n",
    "# Save the trained model to a file\n",
    "joblib.dump(nb_model, 'web_attack_nb_model.pkl')\n",
    "\n",
    "# Load the model from file\n",
    "# loaded_model = joblib.load('svm_model.pkl')"
   ],
   "metadata": {
    "collapsed": false,
    "ExecuteTime": {
     "end_time": "2024-04-21T08:27:38.298956Z",
     "start_time": "2024-04-21T08:27:38.273284Z"
    }
   },
   "id": "310de92e16c01c91"
  },
  {
   "cell_type": "code",
   "execution_count": null,
   "outputs": [],
   "source": [],
   "metadata": {
    "collapsed": false
   },
   "id": "719ea8ff628e3897"
  }
 ],
 "metadata": {
  "kernelspec": {
   "display_name": "Python 3",
   "language": "python",
   "name": "python3"
  },
  "language_info": {
   "codemirror_mode": {
    "name": "ipython",
    "version": 2
   },
   "file_extension": ".py",
   "mimetype": "text/x-python",
   "name": "python",
   "nbconvert_exporter": "python",
   "pygments_lexer": "ipython2",
   "version": "2.7.6"
  }
 },
 "nbformat": 4,
 "nbformat_minor": 5
}
